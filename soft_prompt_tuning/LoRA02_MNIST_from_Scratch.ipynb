{
 "cells": [
  {
   "cell_type": "code",
   "execution_count": 1,
   "id": "88a52630",
   "metadata": {
    "ExecuteTime": {
     "end_time": "2024-07-03T06:57:20.668006Z",
     "start_time": "2024-07-03T06:57:20.663006Z"
    }
   },
   "outputs": [],
   "source": [
    "# Lora on MNIST: https://github.com/sunildkumar/lora_from_scratch/blob/main/lora_on_mnist.ipynb"
   ]
  },
  {
   "cell_type": "code",
   "execution_count": 2,
   "id": "71c5fe68",
   "metadata": {
    "ExecuteTime": {
     "end_time": "2024-07-03T06:57:29.569153Z",
     "start_time": "2024-07-03T06:57:21.013502Z"
    }
   },
   "outputs": [],
   "source": [
    "import lightning as L  # lightning是一个高层次的深度学习框架，建立在pytorch之上，用于简化和加速模型的开发和训练过程。\n",
    "from lightning.pytorch.loggers import CSVLogger  # 用于将训练日志记录到csv文件中，便于之后的分析和可视化。\n",
    "from lightning.pytorch.callbacks import LearningRateFinder  # 通过在training过程中调整学习率lr来找到最优的学习率，以提升模型性能\n",
    "from lightning.pytorch.callbacks.early_stopping import EarlyStopping  # 用于在validation loss不再改善时提前停止，防止模型过拟合。\n",
    "\n",
    "from pytorch_lightning import Callback # 用于实现自定义的回调函数，在training过程中的特定时间点执行特定的操作，比如记录日志、保存model、调整lr。"
   ]
  },
  {
   "cell_type": "code",
   "execution_count": 3,
   "id": "d9267c98",
   "metadata": {
    "ExecuteTime": {
     "end_time": "2024-07-03T06:57:34.369137Z",
     "start_time": "2024-07-03T06:57:29.573964Z"
    }
   },
   "outputs": [
    {
     "name": "stderr",
     "output_type": "stream",
     "text": [
      "Seed set to 42\n"
     ]
    },
    {
     "data": {
      "text/plain": [
       "42"
      ]
     },
     "execution_count": 3,
     "metadata": {},
     "output_type": "execute_result"
    }
   ],
   "source": [
    "import torch\n",
    "import torch.nn as nn\n",
    "import torch.nn.functional as F  # 包含常用的NN函数\n",
    "from torch.utils.data import DataLoader, random_split  # DataLoader用于批量加载数据；random_split用于随机划分训练集和验证集\n",
    "from torch.utils.data.sampler import SubsetRandomSampler  # 用于从数据集中随机采样子集subset\n",
    "\n",
    "import torchvision  # torch计算机视觉库，提供常用的数据集和变换操作\n",
    "from torchvision.datasets import MNIST  # 手写数字数据集\n",
    "from torchvision import transforms  # 包含图像变换操作，如归一化normalization、数据增强。\n",
    "\n",
    "from torchmetrics import Accuracy\n",
    "\n",
    "import pandas as pd\n",
    "import seaborn as sn  # 基于matplotlib的数据可视化库\n",
    "import math\n",
    "import matplotlib.pyplot as plt  # 创建图表和可视化数据\n",
    "\n",
    "# set precison to what lightning suggests for this gpu\n",
    "torch.set_float32_matmul_precision('high')  # 设置在gpu上进行浮点数矩阵乘法的精度为高精度模型，提高数值稳定性和计算精度\n",
    "# make results reproducible\n",
    "L.seed_everything(42)"
   ]
  },
  {
   "cell_type": "code",
   "execution_count": 4,
   "id": "9ca25314",
   "metadata": {
    "ExecuteTime": {
     "end_time": "2024-07-03T06:57:42.898754Z",
     "start_time": "2024-07-03T06:57:42.895027Z"
    }
   },
   "outputs": [],
   "source": [
    "# reserved for constants\n",
    "PATH_DATASETS = 'dataset/'"
   ]
  },
  {
   "cell_type": "markdown",
   "id": "1fa96735",
   "metadata": {
    "ExecuteTime": {
     "end_time": "2024-07-03T00:28:37.277835Z",
     "start_time": "2024-07-03T00:28:37.274814Z"
    }
   },
   "source": [
    "## MLP Network"
   ]
  },
  {
   "cell_type": "code",
   "execution_count": 5,
   "id": "ba4c2357",
   "metadata": {
    "ExecuteTime": {
     "end_time": "2024-07-03T06:57:43.727816Z",
     "start_time": "2024-07-03T06:57:43.705735Z"
    }
   },
   "outputs": [],
   "source": [
    "# Train a MLP on the first half of MNIST\n",
    "class LitMNST(L.LightningModule):\n",
    "    def __init__(self, data_dir=PATH_DATASETS, hidden_size=64, lr=2e-4):\n",
    "        super().__init__()\n",
    "        \n",
    "        # Set our init args as class attributes\n",
    "        self.data_dir = data_dir\n",
    "        self.hidden_size = hidden_size\n",
    "        self.lr = lr\n",
    "        \n",
    "        # Hardcode some dataset specific attributes\n",
    "        self.class_space = [0,1,2,3,4]\n",
    "        self.min_class = min(self.class_space)\n",
    "        self.num_classes = len(self.class_space)\n",
    "        self.dims = (1, 28, 28)  # the shape of an example (C, Width, Hight)\n",
    "        channels, width, height = self.dims\n",
    "        \n",
    "        self.transform = transforms.Compose(  # transforms用于对图像数据进行预处理，将原始图像数据转换为适合DL模型输入的格式；\n",
    "            [                                 # Compose用于将多个变换操作组合在一起。\n",
    "                transforms.ToTensor(),        # 将图像numpy数组转换为torch tensor\n",
    "                transforms.Normalize((0.1307,), (0.3081,)),  # 对tensor进行归一化，两个参数表示：均值mean、std。\n",
    "            ]\n",
    "        )\n",
    "        self.batch_size = 1024\n",
    "        \n",
    "        # Define layers for model\n",
    "        self.l1 = nn.Linear(channels * width * height, hidden_size)\n",
    "        self.l2 = nn.Linear(hidden_size, hidden_size)\n",
    "        self.l3 = nn.Linear(hidden_size, self.num_classes)\n",
    "        \n",
    "        self.dropout = nn.Dropout(0.1)\n",
    "        self.relu = nn.ReLU()\n",
    "        \n",
    "        # Define metrics: 用于计算多类别accuracy；每次更新用update(preds, target)\n",
    "        self.val_accuracy = Accuracy(task='multiclass', num_classes=self.num_classes) \n",
    "        self.test_accuracy = Accuracy(task='multiclass', num_classes=self.num_classes)\n",
    "    \n",
    "    def forward(self, x):  # x.shape = (batch_size, channels, width, height)\n",
    "        # preprocessing\n",
    "        x = torch.flatten(x, 1)  # 将tensor从第1维开始展平,start_dim=1\n",
    "        \n",
    "        # layer 1: (input_size, hidden_size)\n",
    "        x = self.l1(x)\n",
    "        x = self.relu(x)\n",
    "        x = self.dropout(x)\n",
    "        \n",
    "        # layer 2: (hidden_size, hidden_size)\n",
    "        x = self.l2(x)\n",
    "        x = self.relu(x)\n",
    "        x = self.dropout(x)\n",
    "        \n",
    "        # layer 3: (hidden_size, self.num_classes)\n",
    "        x = self.l3(x)\n",
    "        \n",
    "        '''其softmax值不变。==》减去最大的元素，保证最大值为e0=1，因为在0～1之间时，浮点数的精度是最大的。'''\n",
    "        '''归一化处理 Normalization：用于标准化网络层输出的技术，激活函数activation在它后面，最后是dropout函数。'''\n",
    "        # notic that we return the log probabilities here as that what nll loss expects in the training step\n",
    "        return F.log_softmax(x, dim=1)  # 用于计算tensor在dim=1上的log softmax\n",
    "    \n",
    "    def common_step(self, batch, batch_idx):  # common_step是DL中常见的函数，batch是当前批次数据；batch_idx是当前批次index\n",
    "        # define operations all of {train, val, test} will take in each iteration\n",
    "        x, y = batch  # 提取input和label\n",
    "        # rescale y to be 0 indexed if necessary (like when we start using mnist 5-9)\n",
    "        if self.min_class != 0:  # 将second half of MNIST dataset的label转换成从0开始!!!\n",
    "            y = y - self.min_class  # [5,6,7,8,9] -> [0,1,2,3,4]\n",
    "        logits = self(x)  # 调用forward()\n",
    "        loss = F.nll_loss(logits, y)  # 负对数似然损失(Negative Log Likelihood Loss),常用于分类任务，通常与torch.nn.LogSoftmax一起使用。\n",
    "        return x, y, logits, loss\n",
    "    \n",
    "    def training_step(self, batch, batch_idx):  # lightning中单个training step，每个batch数据都会调用这个方法。\n",
    "        _, _, _, loss = self.common_step(batch, batch_idx)\n",
    "        self.log(\"train_loss\", loss, batch_size=self.batch_size)  # batch_size=1024; self.log是lightning提供的方法，用于记录指标，便于监控和可视化。\n",
    "        return loss\n",
    "\n",
    "    def validation_step(self, batch, batch_idx):\n",
    "        x, y, logits, loss = self.common_step(batch, batch_idx)\n",
    "        preds = torch.argmax(logits, dim=1)  # 沿指定维度dim=1返回最大值的index\n",
    "        self.val_accuracy.update(preds, y)  # 更新度量器状态\n",
    "        self.log(\"val_loss\", loss, prog_bar=True)  # prog_bar参数，用于指定是否嫁给你日志记录现实在训练进度条progress bar上。\n",
    "        self.log(\"val_acc\", self.val_accuracy, prog_bar=True)\n",
    "    \n",
    "    def test_step(self, batch, batch_idx):\n",
    "        x, y, logits, loss = self.common_step(batch, batch_idx)\n",
    "        preds = torch.argmax(logits, dim=1)  # tensor dim=1，返回最大值索引index\n",
    "        self.test_accuracy.update(preds, y)\n",
    "        self.log(\"test_loss\", loss, prog_bar=True)\n",
    "        self.log(\"test_acc\", self.test_accuracy, prog_bar=True)\n",
    "    \n",
    "    def configure_optimizers(self):\n",
    "        # we'll use adamw to match the paper\n",
    "        optimizer = torch.optim.AdamW(self.parameters(), lr=self.lr)  # lr=2e-4\n",
    "        return optimizer\n",
    "    \n",
    "    # the rest of the class is helper functions for configuration data/dataloader building\n",
    "    @staticmethod\n",
    "    def get_indices(dataset, class_space):  # 从给定数据集中帅选出属于特定类别集合的sample indices。dataset是torch.Dataset或其子集Subset;\n",
    "        if isinstance(dataset, torch.utils.data.dataset.Subset):\n",
    "            # dataset.indices获取子集中的索引，并从原始数据集中提取对应的targets.\n",
    "            targets = torch.tensor([dataset.dataset.targets[i] for i in dataset.indices])\n",
    "        else:\n",
    "            targets = dataset.targets\n",
    "        # 初始化索引index列表\n",
    "        indices = []\n",
    "        for i in range(len(targets)):\n",
    "            if targets[i] in class_space:\n",
    "                indices.append(i)\n",
    "        return indices  # 返回符合条件的样本索引\n",
    "    \n",
    "    def prepare_data(self):  # torch lightning中，数据加载和准备通常在prepare_data中完成。\n",
    "        # download data\n",
    "        MNIST(self.data_dir, train=True, download=True)  # root=表示数据存储路径，train=True表示下载训练集，download=True表示如果数据不存在，是否下载。\n",
    "        MNIST(self.data_dir, train=False, download=True)  # train=False表示下载测试集\n",
    "    \n",
    "    def setup(self, stage=None):  # lightning setup方法用于设置和准备数据集 during traing/val/test dataloader。\n",
    "        # stage='fit' during training datloader.\n",
    "        if stage == 'fit' or stage is None:\n",
    "            mnist_full = MNIST(self.data_dir, train=True, transform=self.transform)  # 下载MNIST训练数据集\n",
    "            self.mnist_train, self.mnist_val = random_split(mnist_full, [55000, 5000])  # 划分数据集，training + val\n",
    "            \n",
    "        # Assign test dataset during test dataloader\n",
    "        if stage == 'test' or stage is None:\n",
    "            self.mnist_test = MNIST(self.data_dir, train=False, transform=self.transform)  # 下载MNST test dataset\n",
    "    \n",
    "    def create_dataloader(self, dataset):\n",
    "        idx = self.get_indices(dataset, self.class_space)  # 获取label空间对应的原始数据index\n",
    "        # Note - this necessarily shuffles the data due to the sampler we are using\n",
    "        # dataloader自动将数据集分成batched批次数据，每个batch包含batch_size个样本；随机采样random sampler; num_workers多线程\n",
    "        loader = DataLoader(dataset, batch_size=self.batch_size, sampler=SubsetRandomSampler(idx), num_workers=16)\n",
    "        return loader\n",
    "    \n",
    "    def train_dataloader(self):\n",
    "        return self.create_dataloader(self.mnist_train)\n",
    "    \n",
    "    def val_dataloader(self):\n",
    "        return self.create_dataloader(self.mnist_val)\n",
    "    \n",
    "    def test_dataloader(self):\n",
    "        return self.create_dataloader(self.mnist_test)"
   ]
  },
  {
   "cell_type": "markdown",
   "id": "352e193d",
   "metadata": {
    "ExecuteTime": {
     "end_time": "2024-07-03T02:12:25.680815Z",
     "start_time": "2024-07-03T02:12:25.677220Z"
    }
   },
   "source": [
    "## train model"
   ]
  },
  {
   "cell_type": "code",
   "execution_count": 42,
   "id": "ffb9b28c",
   "metadata": {
    "ExecuteTime": {
     "end_time": "2024-07-03T05:58:24.763348Z",
     "start_time": "2024-07-03T05:43:11.482354Z"
    }
   },
   "outputs": [
    {
     "name": "stderr",
     "output_type": "stream",
     "text": [
      "GPU available: False, used: False\n",
      "TPU available: False, using: 0 TPU cores\n",
      "HPU available: False, using: 0 HPUs\n",
      "\n",
      "  | Name          | Type               | Params | Mode \n",
      "-------------------------------------------------------------\n",
      "0 | l1            | Linear             | 50.2 K | train\n",
      "1 | l2            | Linear             | 4.2 K  | train\n",
      "2 | l3            | Linear             | 325    | train\n",
      "3 | dropout       | Dropout            | 0      | train\n",
      "4 | relu          | ReLU               | 0      | train\n",
      "5 | val_accuracy  | MulticlassAccuracy | 0      | train\n",
      "6 | test_accuracy | MulticlassAccuracy | 0      | train\n",
      "-------------------------------------------------------------\n",
      "54.7 K    Trainable params\n",
      "0         Non-trainable params\n",
      "54.7 K    Total params\n",
      "0.219     Total estimated model params size (MB)\n"
     ]
    },
    {
     "data": {
      "application/vnd.jupyter.widget-view+json": {
       "model_id": "",
       "version_major": 2,
       "version_minor": 0
      },
      "text/plain": [
       "Sanity Checking: |                                                                               | 0/? [00:00<…"
      ]
     },
     "metadata": {},
     "output_type": "display_data"
    },
    {
     "name": "stderr",
     "output_type": "stream",
     "text": [
      "D:\\Anaconda3\\Lib\\site-packages\\lightning\\pytorch\\trainer\\connectors\\data_connector.py:419: Consider setting `persistent_workers=True` in 'train_dataloader' to speed up the dataloader worker initialization.\n",
      "D:\\Anaconda3\\Lib\\site-packages\\lightning\\pytorch\\loops\\fit_loop.py:298: The number of training batches (28) is smaller than the logging interval Trainer(log_every_n_steps=50). Set a lower value for log_every_n_steps if you want to see logs for the training epoch.\n"
     ]
    },
    {
     "data": {
      "application/vnd.jupyter.widget-view+json": {
       "model_id": "1e26156166fa41c8b55025c664e9d3a5",
       "version_major": 2,
       "version_minor": 0
      },
      "text/plain": [
       "Training: |                                                                                      | 0/? [00:00<…"
      ]
     },
     "metadata": {},
     "output_type": "display_data"
    },
    {
     "data": {
      "application/vnd.jupyter.widget-view+json": {
       "model_id": "",
       "version_major": 2,
       "version_minor": 0
      },
      "text/plain": [
       "Validation: |                                                                                    | 0/? [00:00<…"
      ]
     },
     "metadata": {},
     "output_type": "display_data"
    },
    {
     "data": {
      "application/vnd.jupyter.widget-view+json": {
       "model_id": "",
       "version_major": 2,
       "version_minor": 0
      },
      "text/plain": [
       "Validation: |                                                                                    | 0/? [00:00<…"
      ]
     },
     "metadata": {},
     "output_type": "display_data"
    },
    {
     "data": {
      "application/vnd.jupyter.widget-view+json": {
       "model_id": "",
       "version_major": 2,
       "version_minor": 0
      },
      "text/plain": [
       "Validation: |                                                                                    | 0/? [00:00<…"
      ]
     },
     "metadata": {},
     "output_type": "display_data"
    },
    {
     "data": {
      "application/vnd.jupyter.widget-view+json": {
       "model_id": "",
       "version_major": 2,
       "version_minor": 0
      },
      "text/plain": [
       "Validation: |                                                                                    | 0/? [00:00<…"
      ]
     },
     "metadata": {},
     "output_type": "display_data"
    },
    {
     "name": "stderr",
     "output_type": "stream",
     "text": [
      "Exception in thread QueueFeederThread:\n",
      "Traceback (most recent call last):\n",
      "  File \"D:\\Anaconda3\\Lib\\multiprocessing\\queues.py\", line 239, in _feed\n",
      "Exception ignored in: <function _ConnectionBase.__del__ at 0x000002447FD14900>\n",
      "Traceback (most recent call last):\n",
      "  File \"D:\\Anaconda3\\Lib\\multiprocessing\\connection.py\", line 133, in __del__\n",
      "    self._close()\n",
      "  File \"D:\\Anaconda3\\Lib\\multiprocessing\\connection.py\", line 282, in _close\n",
      "    _CloseHandle(self._handle)\n",
      "OSError: [WinError 6] 句柄无效。\n",
      "    reader_close()\n",
      "  File \"D:\\Anaconda3\\Lib\\multiprocessing\\connection.py\", line 178, in close\n",
      "    self._close()\n",
      "  File \"D:\\Anaconda3\\Lib\\multiprocessing\\connection.py\", line 282, in _close\n",
      "    _CloseHandle(self._handle)\n",
      "OSError: [WinError 6] 句柄无效。\n",
      "\n",
      "During handling of the above exception, another exception occurred:\n",
      "\n",
      "Traceback (most recent call last):\n",
      "  File \"D:\\Anaconda3\\Lib\\threading.py\", line 1045, in _bootstrap_inner\n",
      "    self.run()\n",
      "  File \"D:\\Anaconda3\\Lib\\threading.py\", line 982, in run\n",
      "    self._target(*self._args, **self._kwargs)\n",
      "  File \"D:\\Anaconda3\\Lib\\multiprocessing\\queues.py\", line 271, in _feed\n",
      "    queue_sem.release()\n",
      "ValueError: semaphore or lock released too many times\n"
     ]
    },
    {
     "data": {
      "application/vnd.jupyter.widget-view+json": {
       "model_id": "",
       "version_major": 2,
       "version_minor": 0
      },
      "text/plain": [
       "Validation: |                                                                                    | 0/? [00:00<…"
      ]
     },
     "metadata": {},
     "output_type": "display_data"
    },
    {
     "data": {
      "application/vnd.jupyter.widget-view+json": {
       "model_id": "",
       "version_major": 2,
       "version_minor": 0
      },
      "text/plain": [
       "Validation: |                                                                                    | 0/? [00:00<…"
      ]
     },
     "metadata": {},
     "output_type": "display_data"
    },
    {
     "data": {
      "application/vnd.jupyter.widget-view+json": {
       "model_id": "",
       "version_major": 2,
       "version_minor": 0
      },
      "text/plain": [
       "Validation: |                                                                                    | 0/? [00:00<…"
      ]
     },
     "metadata": {},
     "output_type": "display_data"
    },
    {
     "data": {
      "application/vnd.jupyter.widget-view+json": {
       "model_id": "",
       "version_major": 2,
       "version_minor": 0
      },
      "text/plain": [
       "Validation: |                                                                                    | 0/? [00:00<…"
      ]
     },
     "metadata": {},
     "output_type": "display_data"
    },
    {
     "data": {
      "application/vnd.jupyter.widget-view+json": {
       "model_id": "",
       "version_major": 2,
       "version_minor": 0
      },
      "text/plain": [
       "Validation: |                                                                                    | 0/? [00:00<…"
      ]
     },
     "metadata": {},
     "output_type": "display_data"
    },
    {
     "data": {
      "application/vnd.jupyter.widget-view+json": {
       "model_id": "",
       "version_major": 2,
       "version_minor": 0
      },
      "text/plain": [
       "Validation: |                                                                                    | 0/? [00:00<…"
      ]
     },
     "metadata": {},
     "output_type": "display_data"
    },
    {
     "name": "stderr",
     "output_type": "stream",
     "text": [
      "`Trainer.fit` stopped: `max_epochs=10` reached.\n"
     ]
    }
   ],
   "source": [
    "model = LitMNST()\n",
    "trainer = L.Trainer(  # Trainer是lightning中管理和执行训练的核心组件\n",
    "    accelerator='auto',  # 加速器，自动选择合适的加速器 (gpu or TPU)\n",
    "    devices=1,           # 指定使用的设备数量\n",
    "    max_epochs=10,       # 最大训练轮数epochs\n",
    "    logger=CSVLogger(save_dir='logs/')  # 日志记录器，CSVLogger记录日志到指定路径\n",
    ")\n",
    "trainer.fit(model)  # fit方法启动训练过程，model是继承自LightingModule的类实例"
   ]
  },
  {
   "cell_type": "markdown",
   "id": "f99cb30c",
   "metadata": {
    "ExecuteTime": {
     "end_time": "2024-07-03T04:51:22.832172Z",
     "start_time": "2024-07-03T04:51:22.828183Z"
    }
   },
   "source": [
    "### metrics and pictures"
   ]
  },
  {
   "cell_type": "code",
   "execution_count": 43,
   "id": "028cf583",
   "metadata": {
    "ExecuteTime": {
     "end_time": "2024-07-03T05:58:57.538270Z",
     "start_time": "2024-07-03T05:58:57.102691Z"
    }
   },
   "outputs": [
    {
     "data": {
      "text/html": [
       "<div>\n",
       "<style scoped>\n",
       "    .dataframe tbody tr th:only-of-type {\n",
       "        vertical-align: middle;\n",
       "    }\n",
       "\n",
       "    .dataframe tbody tr th {\n",
       "        vertical-align: top;\n",
       "    }\n",
       "\n",
       "    .dataframe thead th {\n",
       "        text-align: right;\n",
       "    }\n",
       "</style>\n",
       "<table border=\"1\" class=\"dataframe\">\n",
       "  <thead>\n",
       "    <tr style=\"text-align: right;\">\n",
       "      <th></th>\n",
       "      <th>train_loss</th>\n",
       "      <th>val_acc</th>\n",
       "      <th>val_loss</th>\n",
       "    </tr>\n",
       "    <tr>\n",
       "      <th>epoch</th>\n",
       "      <th></th>\n",
       "      <th></th>\n",
       "      <th></th>\n",
       "    </tr>\n",
       "  </thead>\n",
       "  <tbody>\n",
       "    <tr>\n",
       "      <th>0</th>\n",
       "      <td>NaN</td>\n",
       "      <td>0.853496</td>\n",
       "      <td>1.008824</td>\n",
       "    </tr>\n",
       "    <tr>\n",
       "      <th>1</th>\n",
       "      <td>0.623317</td>\n",
       "      <td>NaN</td>\n",
       "      <td>NaN</td>\n",
       "    </tr>\n",
       "    <tr>\n",
       "      <th>1</th>\n",
       "      <td>NaN</td>\n",
       "      <td>0.914768</td>\n",
       "      <td>0.463142</td>\n",
       "    </tr>\n",
       "    <tr>\n",
       "      <th>2</th>\n",
       "      <td>NaN</td>\n",
       "      <td>0.932050</td>\n",
       "      <td>0.253978</td>\n",
       "    </tr>\n",
       "    <tr>\n",
       "      <th>3</th>\n",
       "      <td>0.201776</td>\n",
       "      <td>NaN</td>\n",
       "      <td>NaN</td>\n",
       "    </tr>\n",
       "  </tbody>\n",
       "</table>\n",
       "</div>"
      ],
      "text/plain": [
       "       train_loss   val_acc  val_loss\n",
       "epoch                                \n",
       "0             NaN  0.853496  1.008824\n",
       "1        0.623317       NaN       NaN\n",
       "1             NaN  0.914768  0.463142\n",
       "2             NaN  0.932050  0.253978\n",
       "3        0.201776       NaN       NaN"
      ]
     },
     "metadata": {},
     "output_type": "display_data"
    },
    {
     "name": "stderr",
     "output_type": "stream",
     "text": [
      "D:\\Anaconda3\\Lib\\site-packages\\seaborn\\axisgrid.py:118: UserWarning: The figure layout has changed to tight\n",
      "  self._figure.tight_layout(*args, **kwargs)\n"
     ]
    },
    {
     "data": {
      "text/plain": [
       "<seaborn.axisgrid.FacetGrid at 0x24429e22390>"
      ]
     },
     "execution_count": 43,
     "metadata": {},
     "output_type": "execute_result"
    },
    {
     "data": {
      "image/png": "[encoded data removed]",
      "text/plain": [
       "<Figure size 616.125x500 with 1 Axes>"
      ]
     },
     "metadata": {},
     "output_type": "display_data"
    }
   ],
   "source": [
    "metrics = pd.read_csv(f\"{trainer.logger.log_dir}/metrics.csv\")\n",
    "del metrics['step']\n",
    "metrics.set_index('epoch', inplace=True)  # 将epoch设置为索引列，并替换inplace原有的索引列\n",
    "# axis=1表示沿着列方法进行drop删除包含nan的列; how=all表示整列是nan时才删除该列；head表示展示前5行;display是jupyter展示数据函数\n",
    "display(metrics.dropna(axis=1, how='all').head())\n",
    "sn.relplot(data=metrics, kind='line')  # seaborn.replot创建一个关系图，显示数据变量之间的关系趋势，metircs是dataframe数据，line表示折线图"
   ]
  },
  {
   "cell_type": "markdown",
   "id": "23d8abca",
   "metadata": {
    "ExecuteTime": {
     "end_time": "2024-07-04T05:49:41.330602Z",
     "start_time": "2024-07-04T05:49:41.327399Z"
    }
   },
   "source": [
    "### test model"
   ]
  },
  {
   "cell_type": "code",
   "execution_count": 44,
   "id": "2cbde198",
   "metadata": {
    "ExecuteTime": {
     "end_time": "2024-07-03T05:59:19.861625Z",
     "start_time": "2024-07-03T05:59:01.469118Z"
    }
   },
   "outputs": [
    {
     "name": "stderr",
     "output_type": "stream",
     "text": [
      "D:\\Anaconda3\\Lib\\site-packages\\lightning\\pytorch\\trainer\\connectors\\checkpoint_connector.py:145: `.test(ckpt_path=None)` was called without a model. The best model of the previous `fit` call will be used. You can pass `.test(ckpt_path='best')` to use the best model or `.test(ckpt_path='last')` to use the last model. If you pass a value, this warning will be silenced.\n",
      "Restoring states from the checkpoint path at logs/lightning_logs\\version_0\\checkpoints\\epoch=9-step=280.ckpt\n",
      "Loaded model weights from the checkpoint at logs/lightning_logs\\version_0\\checkpoints\\epoch=9-step=280.ckpt\n",
      "D:\\Anaconda3\\Lib\\site-packages\\torch\\utils\\data\\dataloader.py:558: UserWarning: This DataLoader will create 16 worker processes in total. Our suggested max number of worker in current system is 8 (`cpuset` is not taken into account), which is smaller than what this DataLoader is going to create. Please be aware that excessive worker creation might get DataLoader running slow or even freeze, lower the worker number to avoid potential slowness/freeze if necessary.\n",
      "  warnings.warn(_create_warning_msg(\n",
      "D:\\Anaconda3\\Lib\\site-packages\\lightning\\pytorch\\trainer\\connectors\\data_connector.py:419: Consider setting `persistent_workers=True` in 'test_dataloader' to speed up the dataloader worker initialization.\n"
     ]
    },
    {
     "data": {
      "application/vnd.jupyter.widget-view+json": {
       "model_id": "9fb136614f7443e59ec1a15dba253654",
       "version_major": 2,
       "version_minor": 0
      },
      "text/plain": [
       "Testing: |                                                                                       | 0/? [00:00<…"
      ]
     },
     "metadata": {},
     "output_type": "display_data"
    },
    {
     "data": {
      "text/html": [
       "<pre style=\"white-space:pre;overflow-x:auto;line-height:normal;font-family:Menlo,'DejaVu Sans Mono',consolas,'Courier New',monospace\">┏━━━━━━━━━━━━━━━━━━━━━━━━━━━┳━━━━━━━━━━━━━━━━━━━━━━━━━━━┓\n",
       "┃<span style=\"font-weight: bold\">        Test metric        </span>┃<span style=\"font-weight: bold\">       DataLoader 0        </span>┃\n",
       "┡━━━━━━━━━━━━━━━━━━━━━━━━━━━╇━━━━━━━━━━━━━━━━━━━━━━━━━━━┩\n",
       "│<span style=\"color: #008080; text-decoration-color: #008080\">         test_acc          </span>│<span style=\"color: #800080; text-decoration-color: #800080\">    0.9745086431503296     </span>│\n",
       "│<span style=\"color: #008080; text-decoration-color: #008080\">         test_loss         </span>│<span style=\"color: #800080; text-decoration-color: #800080\">    0.08371803909540176    </span>│\n",
       "└───────────────────────────┴───────────────────────────┘\n",
       "</pre>\n"
      ],
      "text/plain": [
       "┏━━━━━━━━━━━━━━━━━━━━━━━━━━━┳━━━━━━━━━━━━━━━━━━━━━━━━━━━┓\n",
       "┃\u001b[1m \u001b[0m\u001b[1m       Test metric       \u001b[0m\u001b[1m \u001b[0m┃\u001b[1m \u001b[0m\u001b[1m      DataLoader 0       \u001b[0m\u001b[1m \u001b[0m┃\n",
       "┡━━━━━━━━━━━━━━━━━━━━━━━━━━━╇━━━━━━━━━━━━━━━━━━━━━━━━━━━┩\n",
       "│\u001b[36m \u001b[0m\u001b[36m        test_acc         \u001b[0m\u001b[36m \u001b[0m│\u001b[35m \u001b[0m\u001b[35m   0.9745086431503296    \u001b[0m\u001b[35m \u001b[0m│\n",
       "│\u001b[36m \u001b[0m\u001b[36m        test_loss        \u001b[0m\u001b[36m \u001b[0m│\u001b[35m \u001b[0m\u001b[35m   0.08371803909540176   \u001b[0m\u001b[35m \u001b[0m│\n",
       "└───────────────────────────┴───────────────────────────┘\n"
      ]
     },
     "metadata": {},
     "output_type": "display_data"
    },
    {
     "data": {
      "text/plain": [
       "[{'test_loss': 0.08371803909540176, 'test_acc': 0.9745086431503296}]"
      ]
     },
     "execution_count": 44,
     "metadata": {},
     "output_type": "execute_result"
    }
   ],
   "source": [
    "# as expected our model performs well\n",
    "trainer.test()\n",
    "'''\n",
    "    用于在训练完后对模型进行test，\n",
    "    1) 定义test dataloader，在setup方法中设置stage=test，确保trainer.test()调用时加载正确数据集。\n",
    "    2) 调用trainer.test()来出发测试过程\n",
    "        trainer = Trainer(max_epochs=10, logger=...)\n",
    "        trainer.fit(model, train_dataloader, val_dataloader)\n",
    "        trainer.test(test_dataloaders=test_dataloader)\n",
    "'''"
   ]
  },
  {
   "cell_type": "markdown",
   "id": "5c39aa70",
   "metadata": {
    "ExecuteTime": {
     "end_time": "2024-07-03T06:00:59.867144Z",
     "start_time": "2024-07-03T06:00:59.863642Z"
    }
   },
   "source": [
    "### save model"
   ]
  },
  {
   "cell_type": "code",
   "execution_count": 46,
   "id": "ed0f3e47",
   "metadata": {
    "ExecuteTime": {
     "end_time": "2024-07-03T06:02:23.579245Z",
     "start_time": "2024-07-03T06:02:23.566547Z"
    }
   },
   "outputs": [],
   "source": [
    "# save model weights so we can finetune them later\n",
    "trainer.save_checkpoint('results/LoRA02_MNIST/mlp_model.ckpt')\n",
    "torch.save(model.state_dict(), 'results/LoRA02_MNIST/mlp_model.pt')"
   ]
  },
  {
   "cell_type": "markdown",
   "id": "3fb0b976",
   "metadata": {
    "ExecuteTime": {
     "end_time": "2024-07-03T06:02:55.206821Z",
     "start_time": "2024-07-03T06:02:55.203737Z"
    }
   },
   "source": [
    "## Finetune on second half of MNIST"
   ]
  },
  {
   "cell_type": "markdown",
   "id": "4fa85a1f",
   "metadata": {
    "ExecuteTime": {
     "end_time": "2024-07-03T07:01:59.317336Z",
     "start_time": "2024-07-03T07:01:59.313967Z"
    }
   },
   "source": [
    "### model_no_finetuning"
   ]
  },
  {
   "cell_type": "code",
   "execution_count": 6,
   "id": "b569fe70",
   "metadata": {
    "ExecuteTime": {
     "end_time": "2024-07-03T06:57:49.807921Z",
     "start_time": "2024-07-03T06:57:49.598111Z"
    }
   },
   "outputs": [],
   "source": [
    "# load the model \n",
    "# we refer to it as \"no training\" as we are going to use this initialization to show that the model performs poorly on the second half of mnist (as it wasn't trained on it)\n",
    "model_loaded_no_finetuning = LitMNST.load_from_checkpoint(checkpoint_path='mlp_model.ckpt')"
   ]
  },
  {
   "cell_type": "code",
   "execution_count": 7,
   "id": "ebddff2d",
   "metadata": {
    "ExecuteTime": {
     "end_time": "2024-07-03T06:57:50.681420Z",
     "start_time": "2024-07-03T06:57:50.677998Z"
    }
   },
   "outputs": [],
   "source": [
    "# set it up to run on the second half of mnist (digits 5,6,7,8,9)\n",
    "model_loaded_no_finetuning.class_space = [5,6,7,8,9]\n",
    "model_loaded_no_finetuning.min_class = min(model_loaded_no_finetuning.class_space)"
   ]
  },
  {
   "cell_type": "code",
   "execution_count": 8,
   "id": "2106e310",
   "metadata": {
    "ExecuteTime": {
     "end_time": "2024-07-03T06:59:15.599926Z",
     "start_time": "2024-07-03T06:57:52.317011Z"
    }
   },
   "outputs": [
    {
     "name": "stderr",
     "output_type": "stream",
     "text": [
      "GPU available: False, used: False\n",
      "TPU available: False, using: 0 TPU cores\n",
      "HPU available: False, using: 0 HPUs\n",
      "\n",
      "  | Name          | Type               | Params | Mode \n",
      "-------------------------------------------------------------\n",
      "0 | l1            | Linear             | 50.2 K | train\n",
      "1 | l2            | Linear             | 4.2 K  | train\n",
      "2 | l3            | Linear             | 325    | train\n",
      "3 | dropout       | Dropout            | 0      | train\n",
      "4 | relu          | ReLU               | 0      | train\n",
      "5 | val_accuracy  | MulticlassAccuracy | 0      | train\n",
      "6 | test_accuracy | MulticlassAccuracy | 0      | train\n",
      "-------------------------------------------------------------\n",
      "54.7 K    Trainable params\n",
      "0         Non-trainable params\n",
      "54.7 K    Total params\n",
      "0.219     Total estimated model params size (MB)\n"
     ]
    },
    {
     "data": {
      "application/vnd.jupyter.widget-view+json": {
       "model_id": "",
       "version_major": 2,
       "version_minor": 0
      },
      "text/plain": [
       "Sanity Checking: |                                                                               | 0/? [00:00<…"
      ]
     },
     "metadata": {},
     "output_type": "display_data"
    },
    {
     "name": "stderr",
     "output_type": "stream",
     "text": [
      "D:\\Anaconda3\\Lib\\site-packages\\torch\\utils\\data\\dataloader.py:558: UserWarning: This DataLoader will create 16 worker processes in total. Our suggested max number of worker in current system is 8 (`cpuset` is not taken into account), which is smaller than what this DataLoader is going to create. Please be aware that excessive worker creation might get DataLoader running slow or even freeze, lower the worker number to avoid potential slowness/freeze if necessary.\n",
      "  warnings.warn(_create_warning_msg(\n",
      "D:\\Anaconda3\\Lib\\site-packages\\lightning\\pytorch\\trainer\\connectors\\data_connector.py:419: Consider setting `persistent_workers=True` in 'val_dataloader' to speed up the dataloader worker initialization.\n",
      "D:\\Anaconda3\\Lib\\site-packages\\lightning\\pytorch\\trainer\\connectors\\data_connector.py:419: Consider setting `persistent_workers=True` in 'train_dataloader' to speed up the dataloader worker initialization.\n"
     ]
    },
    {
     "data": {
      "application/vnd.jupyter.widget-view+json": {
       "model_id": "becb7dccf23c40f88b3c9c49aa83f766",
       "version_major": 2,
       "version_minor": 0
      },
      "text/plain": [
       "Training: |                                                                                      | 0/? [00:00<…"
      ]
     },
     "metadata": {},
     "output_type": "display_data"
    },
    {
     "name": "stderr",
     "output_type": "stream",
     "text": [
      "`Trainer.fit` stopped: `max_steps=1` reached.\n"
     ]
    }
   ],
   "source": [
    "# we will train on the new data exactly one element once \n",
    "# (this is so we can access the trainer2.test() function, which allows us to easily evaluate how well our model works on the new data)\n",
    "model_loaded_no_finetuning.batch_size = 1\n",
    "trainer_no_tune = L.Trainer(  # 在training过程中，common step函数会把[5,6,7,8,9] -> [0,1,2,3,4]\n",
    "    accelerator='auto',\n",
    "    devices=1,\n",
    "    max_steps=1,  # max_steps用于指定每个epoch中的最大步数，max_steps=1即每个epoch训练步数都要小于1，即不会进行training\n",
    "    logger=CSVLogger(save_dir='logs/'),\n",
    ")\n",
    "trainer_no_tune.fit(model_loaded_no_finetuning)"
   ]
  },
  {
   "cell_type": "code",
   "execution_count": 9,
   "id": "185bbb01",
   "metadata": {
    "ExecuteTime": {
     "end_time": "2024-07-03T07:00:25.953443Z",
     "start_time": "2024-07-03T06:59:54.199652Z"
    }
   },
   "outputs": [
    {
     "name": "stderr",
     "output_type": "stream",
     "text": [
      "D:\\Anaconda3\\Lib\\site-packages\\lightning\\pytorch\\trainer\\connectors\\checkpoint_connector.py:145: `.test(ckpt_path=None)` was called without a model. The best model of the previous `fit` call will be used. You can pass `.test(ckpt_path='best')` to use the best model or `.test(ckpt_path='last')` to use the last model. If you pass a value, this warning will be silenced.\n",
      "Restoring states from the checkpoint path at logs/lightning_logs\\version_1\\checkpoints\\epoch=0-step=1.ckpt\n",
      "Loaded model weights from the checkpoint at logs/lightning_logs\\version_1\\checkpoints\\epoch=0-step=1.ckpt\n",
      "D:\\Anaconda3\\Lib\\site-packages\\lightning\\pytorch\\trainer\\connectors\\data_connector.py:419: Consider setting `persistent_workers=True` in 'test_dataloader' to speed up the dataloader worker initialization.\n"
     ]
    },
    {
     "data": {
      "application/vnd.jupyter.widget-view+json": {
       "model_id": "300b920e6bb647ff9ac9b0c6ddd4f78b",
       "version_major": 2,
       "version_minor": 0
      },
      "text/plain": [
       "Testing: |                                                                                       | 0/? [00:00<…"
      ]
     },
     "metadata": {},
     "output_type": "display_data"
    },
    {
     "data": {
      "text/html": [
       "<pre style=\"white-space:pre;overflow-x:auto;line-height:normal;font-family:Menlo,'DejaVu Sans Mono',consolas,'Courier New',monospace\">┏━━━━━━━━━━━━━━━━━━━━━━━━━━━┳━━━━━━━━━━━━━━━━━━━━━━━━━━━┓\n",
       "┃<span style=\"font-weight: bold\">        Test metric        </span>┃<span style=\"font-weight: bold\">       DataLoader 0        </span>┃\n",
       "┡━━━━━━━━━━━━━━━━━━━━━━━━━━━╇━━━━━━━━━━━━━━━━━━━━━━━━━━━┩\n",
       "│<span style=\"color: #008080; text-decoration-color: #008080\">         test_acc          </span>│<span style=\"color: #800080; text-decoration-color: #800080\">    0.33861345052719116    </span>│\n",
       "│<span style=\"color: #008080; text-decoration-color: #008080\">         test_loss         </span>│<span style=\"color: #800080; text-decoration-color: #800080\">     2.882897138595581     </span>│\n",
       "└───────────────────────────┴───────────────────────────┘\n",
       "</pre>\n"
      ],
      "text/plain": [
       "┏━━━━━━━━━━━━━━━━━━━━━━━━━━━┳━━━━━━━━━━━━━━━━━━━━━━━━━━━┓\n",
       "┃\u001b[1m \u001b[0m\u001b[1m       Test metric       \u001b[0m\u001b[1m \u001b[0m┃\u001b[1m \u001b[0m\u001b[1m      DataLoader 0       \u001b[0m\u001b[1m \u001b[0m┃\n",
       "┡━━━━━━━━━━━━━━━━━━━━━━━━━━━╇━━━━━━━━━━━━━━━━━━━━━━━━━━━┩\n",
       "│\u001b[36m \u001b[0m\u001b[36m        test_acc         \u001b[0m\u001b[36m \u001b[0m│\u001b[35m \u001b[0m\u001b[35m   0.33861345052719116   \u001b[0m\u001b[35m \u001b[0m│\n",
       "│\u001b[36m \u001b[0m\u001b[36m        test_loss        \u001b[0m\u001b[36m \u001b[0m│\u001b[35m \u001b[0m\u001b[35m    2.882897138595581    \u001b[0m\u001b[35m \u001b[0m│\n",
       "└───────────────────────────┴───────────────────────────┘\n"
      ]
     },
     "metadata": {},
     "output_type": "display_data"
    },
    {
     "data": {
      "text/plain": [
       "[{'test_loss': 2.882897138595581, 'test_acc': 0.33861345052719116}]"
      ]
     },
     "execution_count": 9,
     "metadata": {},
     "output_type": "execute_result"
    }
   ],
   "source": [
    "# we can see our model performs extremely poorly on the new data that it hasn't seen, which is unsuprising.\n",
    "model_loaded_no_finetuning.test()"
   ]
  },
  {
   "cell_type": "markdown",
   "id": "7a7af890",
   "metadata": {
    "ExecuteTime": {
     "end_time": "2024-07-03T07:02:12.478703Z",
     "start_time": "2024-07-03T07:02:12.475268Z"
    }
   },
   "source": [
    "### model_finetuning"
   ]
  },
  {
   "cell_type": "code",
   "execution_count": 12,
   "id": "999f742d",
   "metadata": {
    "ExecuteTime": {
     "end_time": "2024-07-03T07:20:51.829311Z",
     "start_time": "2024-07-03T07:07:28.608858Z"
    }
   },
   "outputs": [
    {
     "name": "stderr",
     "output_type": "stream",
     "text": [
      "GPU available: False, used: False\n",
      "TPU available: False, using: 0 TPU cores\n",
      "HPU available: False, using: 0 HPUs\n",
      "\n",
      "  | Name          | Type               | Params | Mode \n",
      "-------------------------------------------------------------\n",
      "0 | l1            | Linear             | 50.2 K | train\n",
      "1 | l2            | Linear             | 4.2 K  | train\n",
      "2 | l3            | Linear             | 325    | train\n",
      "3 | dropout       | Dropout            | 0      | train\n",
      "4 | relu          | ReLU               | 0      | train\n",
      "5 | val_accuracy  | MulticlassAccuracy | 0      | train\n",
      "6 | test_accuracy | MulticlassAccuracy | 0      | train\n",
      "-------------------------------------------------------------\n",
      "54.7 K    Trainable params\n",
      "0         Non-trainable params\n",
      "54.7 K    Total params\n",
      "0.219     Total estimated model params size (MB)\n"
     ]
    },
    {
     "data": {
      "application/vnd.jupyter.widget-view+json": {
       "model_id": "",
       "version_major": 2,
       "version_minor": 0
      },
      "text/plain": [
       "Sanity Checking: |                                                                               | 0/? [00:00<…"
      ]
     },
     "metadata": {},
     "output_type": "display_data"
    },
    {
     "name": "stderr",
     "output_type": "stream",
     "text": [
      "D:\\Anaconda3\\Lib\\site-packages\\torch\\utils\\data\\dataloader.py:558: UserWarning: This DataLoader will create 16 worker processes in total. Our suggested max number of worker in current system is 8 (`cpuset` is not taken into account), which is smaller than what this DataLoader is going to create. Please be aware that excessive worker creation might get DataLoader running slow or even freeze, lower the worker number to avoid potential slowness/freeze if necessary.\n",
      "  warnings.warn(_create_warning_msg(\n",
      "D:\\Anaconda3\\Lib\\site-packages\\lightning\\pytorch\\trainer\\connectors\\data_connector.py:419: Consider setting `persistent_workers=True` in 'val_dataloader' to speed up the dataloader worker initialization.\n",
      "D:\\Anaconda3\\Lib\\site-packages\\lightning\\pytorch\\trainer\\connectors\\data_connector.py:419: Consider setting `persistent_workers=True` in 'train_dataloader' to speed up the dataloader worker initialization.\n",
      "D:\\Anaconda3\\Lib\\site-packages\\lightning\\pytorch\\loops\\fit_loop.py:298: The number of training batches (28) is smaller than the logging interval Trainer(log_every_n_steps=50). Set a lower value for log_every_n_steps if you want to see logs for the training epoch.\n"
     ]
    },
    {
     "data": {
      "application/vnd.jupyter.widget-view+json": {
       "model_id": "349e91f8af5e4a49b86104c20a35edb1",
       "version_major": 2,
       "version_minor": 0
      },
      "text/plain": [
       "Training: |                                                                                      | 0/? [00:00<…"
      ]
     },
     "metadata": {},
     "output_type": "display_data"
    },
    {
     "data": {
      "application/vnd.jupyter.widget-view+json": {
       "model_id": "",
       "version_major": 2,
       "version_minor": 0
      },
      "text/plain": [
       "Validation: |                                                                                    | 0/? [00:00<…"
      ]
     },
     "metadata": {},
     "output_type": "display_data"
    },
    {
     "data": {
      "application/vnd.jupyter.widget-view+json": {
       "model_id": "",
       "version_major": 2,
       "version_minor": 0
      },
      "text/plain": [
       "Validation: |                                                                                    | 0/? [00:00<…"
      ]
     },
     "metadata": {},
     "output_type": "display_data"
    },
    {
     "data": {
      "application/vnd.jupyter.widget-view+json": {
       "model_id": "",
       "version_major": 2,
       "version_minor": 0
      },
      "text/plain": [
       "Validation: |                                                                                    | 0/? [00:00<…"
      ]
     },
     "metadata": {},
     "output_type": "display_data"
    },
    {
     "data": {
      "application/vnd.jupyter.widget-view+json": {
       "model_id": "",
       "version_major": 2,
       "version_minor": 0
      },
      "text/plain": [
       "Validation: |                                                                                    | 0/? [00:00<…"
      ]
     },
     "metadata": {},
     "output_type": "display_data"
    },
    {
     "data": {
      "application/vnd.jupyter.widget-view+json": {
       "model_id": "",
       "version_major": 2,
       "version_minor": 0
      },
      "text/plain": [
       "Validation: |                                                                                    | 0/? [00:00<…"
      ]
     },
     "metadata": {},
     "output_type": "display_data"
    },
    {
     "data": {
      "application/vnd.jupyter.widget-view+json": {
       "model_id": "",
       "version_major": 2,
       "version_minor": 0
      },
      "text/plain": [
       "Validation: |                                                                                    | 0/? [00:00<…"
      ]
     },
     "metadata": {},
     "output_type": "display_data"
    },
    {
     "data": {
      "application/vnd.jupyter.widget-view+json": {
       "model_id": "",
       "version_major": 2,
       "version_minor": 0
      },
      "text/plain": [
       "Validation: |                                                                                    | 0/? [00:00<…"
      ]
     },
     "metadata": {},
     "output_type": "display_data"
    },
    {
     "data": {
      "application/vnd.jupyter.widget-view+json": {
       "model_id": "",
       "version_major": 2,
       "version_minor": 0
      },
      "text/plain": [
       "Validation: |                                                                                    | 0/? [00:00<…"
      ]
     },
     "metadata": {},
     "output_type": "display_data"
    },
    {
     "data": {
      "application/vnd.jupyter.widget-view+json": {
       "model_id": "",
       "version_major": 2,
       "version_minor": 0
      },
      "text/plain": [
       "Validation: |                                                                                    | 0/? [00:00<…"
      ]
     },
     "metadata": {},
     "output_type": "display_data"
    },
    {
     "data": {
      "application/vnd.jupyter.widget-view+json": {
       "model_id": "",
       "version_major": 2,
       "version_minor": 0
      },
      "text/plain": [
       "Validation: |                                                                                    | 0/? [00:00<…"
      ]
     },
     "metadata": {},
     "output_type": "display_data"
    },
    {
     "name": "stderr",
     "output_type": "stream",
     "text": [
      "`Trainer.fit` stopped: `max_epochs=10` reached.\n"
     ]
    }
   ],
   "source": [
    "# now finetune e2e on the new data\n",
    "model_finetuning = LitMNST.load_from_checkpoint(checkpoint_path='mlp_model.ckpt')\n",
    "# set it up to run on the second half of mnist (digits 5,6,7,8,9)\n",
    "model_finetuning.class_space = [5,6,7,8,9]\n",
    "model_finetuning.min_class = min(model_finetuning.class_space)\n",
    "\n",
    "trainer = L.Trainer(\n",
    "    accelerator='auto',\n",
    "    devices=1,\n",
    "    max_epochs=10,\n",
    "    logger=CSVLogger(save_dir='logs/'),\n",
    ")\n",
    "trainer.fit(model_finetuning)"
   ]
  },
  {
   "cell_type": "code",
   "execution_count": 13,
   "id": "1c49cb52",
   "metadata": {
    "ExecuteTime": {
     "end_time": "2024-07-03T07:22:55.870394Z",
     "start_time": "2024-07-03T07:22:37.904135Z"
    }
   },
   "outputs": [
    {
     "name": "stderr",
     "output_type": "stream",
     "text": [
      "D:\\Anaconda3\\Lib\\site-packages\\lightning\\pytorch\\trainer\\connectors\\checkpoint_connector.py:145: `.test(ckpt_path=None)` was called without a model. The best model of the previous `fit` call will be used. You can pass `.test(ckpt_path='best')` to use the best model or `.test(ckpt_path='last')` to use the last model. If you pass a value, this warning will be silenced.\n",
      "Restoring states from the checkpoint path at logs/lightning_logs\\version_2\\checkpoints\\epoch=9-step=280.ckpt\n",
      "Loaded model weights from the checkpoint at logs/lightning_logs\\version_2\\checkpoints\\epoch=9-step=280.ckpt\n",
      "D:\\Anaconda3\\Lib\\site-packages\\lightning\\pytorch\\trainer\\connectors\\data_connector.py:419: Consider setting `persistent_workers=True` in 'test_dataloader' to speed up the dataloader worker initialization.\n"
     ]
    },
    {
     "data": {
      "application/vnd.jupyter.widget-view+json": {
       "model_id": "097975a0bf8b4c1baa35ac7e940be8ce",
       "version_major": 2,
       "version_minor": 0
      },
      "text/plain": [
       "Testing: |                                                                                       | 0/? [00:00<…"
      ]
     },
     "metadata": {},
     "output_type": "display_data"
    },
    {
     "data": {
      "text/html": [
       "<pre style=\"white-space:pre;overflow-x:auto;line-height:normal;font-family:Menlo,'DejaVu Sans Mono',consolas,'Courier New',monospace\">┏━━━━━━━━━━━━━━━━━━━━━━━━━━━┳━━━━━━━━━━━━━━━━━━━━━━━━━━━┓\n",
       "┃<span style=\"font-weight: bold\">        Test metric        </span>┃<span style=\"font-weight: bold\">       DataLoader 0        </span>┃\n",
       "┡━━━━━━━━━━━━━━━━━━━━━━━━━━━╇━━━━━━━━━━━━━━━━━━━━━━━━━━━┩\n",
       "│<span style=\"color: #008080; text-decoration-color: #008080\">         test_acc          </span>│<span style=\"color: #800080; text-decoration-color: #800080\">    0.9838489890098572     </span>│\n",
       "│<span style=\"color: #008080; text-decoration-color: #008080\">         test_loss         </span>│<span style=\"color: #800080; text-decoration-color: #800080\">   0.052110206335783005    </span>│\n",
       "└───────────────────────────┴───────────────────────────┘\n",
       "</pre>\n"
      ],
      "text/plain": [
       "┏━━━━━━━━━━━━━━━━━━━━━━━━━━━┳━━━━━━━━━━━━━━━━━━━━━━━━━━━┓\n",
       "┃\u001b[1m \u001b[0m\u001b[1m       Test metric       \u001b[0m\u001b[1m \u001b[0m┃\u001b[1m \u001b[0m\u001b[1m      DataLoader 0       \u001b[0m\u001b[1m \u001b[0m┃\n",
       "┡━━━━━━━━━━━━━━━━━━━━━━━━━━━╇━━━━━━━━━━━━━━━━━━━━━━━━━━━┩\n",
       "│\u001b[36m \u001b[0m\u001b[36m        test_acc         \u001b[0m\u001b[36m \u001b[0m│\u001b[35m \u001b[0m\u001b[35m   0.9838489890098572    \u001b[0m\u001b[35m \u001b[0m│\n",
       "│\u001b[36m \u001b[0m\u001b[36m        test_loss        \u001b[0m\u001b[36m \u001b[0m│\u001b[35m \u001b[0m\u001b[35m  0.052110206335783005   \u001b[0m\u001b[35m \u001b[0m│\n",
       "└───────────────────────────┴───────────────────────────┘\n"
      ]
     },
     "metadata": {},
     "output_type": "display_data"
    },
    {
     "data": {
      "text/plain": [
       "[{'test_loss': 0.052110206335783005, 'test_acc': 0.9838489890098572}]"
      ]
     },
     "execution_count": 13,
     "metadata": {},
     "output_type": "execute_result"
    }
   ],
   "source": [
    "# unsuprisingly finetuning allows us to perform equally well on the second half of MNIST.\n",
    "# However this approach would requires us to save the ENTIRE model binary for each dataset we wanted to finetune our initial model on,\n",
    "# wich doesn't scale well.\n",
    "trainer.test()"
   ]
  },
  {
   "cell_type": "markdown",
   "id": "c9fc3bbf",
   "metadata": {
    "ExecuteTime": {
     "end_time": "2024-07-03T07:26:19.863841Z",
     "start_time": "2024-07-03T07:26:19.861010Z"
    }
   },
   "source": [
    "## model_lora"
   ]
  },
  {
   "cell_type": "code",
   "execution_count": 29,
   "id": "a5997288",
   "metadata": {
    "ExecuteTime": {
     "end_time": "2024-07-03T09:10:59.662483Z",
     "start_time": "2024-07-03T09:10:59.638148Z"
    }
   },
   "outputs": [],
   "source": [
    "class LitMNISTLoRA(L.LightningModule):\n",
    "    def __init__(self, data_dir=PATH_DATASETS, hidden_size=64, lr=2e-4, lora_rank=8):\n",
    "        super().__init__()\n",
    "        \n",
    "        # Set our init args as class attributes\n",
    "        self.data_dir = data_dir\n",
    "        self.hidden_size = hidden_size\n",
    "        self.lr = lr\n",
    "        \n",
    "        # Hardcode some dataset specific attributes\n",
    "        self.class_space = [0,1,2,3,4]\n",
    "        self.min_class = min(self.class_space)\n",
    "        self.num_classes = len(self.class_space)\n",
    "        self.dims = (1, 28, 28)  # the shape of an example (C, W, H)\n",
    "        channels, width, height = self.dims\n",
    "        \n",
    "        self.transform = transforms.Compose(\n",
    "            [\n",
    "                transforms.ToTensor(),\n",
    "                transforms.Normalize((0.1307,), (0.3081)),\n",
    "            ]\n",
    "        )\n",
    "        self.batch_size = 64\n",
    "        \n",
    "        # Define layers for model\n",
    "        self.l1 = nn.Linear(channels * width * height, hidden_size)\n",
    "        self.l2 = nn.Linear(hidden_size, hidden_size)\n",
    "        self.l3 = nn.Linear(hidden_size, self.num_classes)\n",
    "        \n",
    "        self.dropout = nn.Dropout(0.1)\n",
    "        self.relu = nn.ReLU()\n",
    "        \n",
    "        # Define lora hyperparameters\n",
    "        self.lora_rank = lora_rank  # the rank 'r' for the low-rank adaptation\n",
    "        self.lora_alpha = 1  # lora scaling factor 缩放因子\n",
    "        \n",
    "        # Lora layer 1\n",
    "        self.l1_lora_A = nn.Parameter(torch.empty(channels * width * height, self.lora_rank))\n",
    "        self.l1_lora_B = nn.Parameter(torch.empty(self.lora_rank, hidden_size))\n",
    "        \n",
    "        # Lora layer 2\n",
    "        self.l2_lora_A = nn.Parameter(torch.empty(hidden_size, self.lora_rank))\n",
    "        self.l2_lora_B = nn.Parameter(torch.empty(self.lora_rank, hidden_size))\n",
    "        \n",
    "        # Lora layer 3\n",
    "        self.l3_lora_A = nn.Parameter(torch.empty(hidden_size, self.lora_rank))\n",
    "        self.l3_lora_B = nn.Parameter(torch.empty(self.lora_rank, self.num_classes))\n",
    "        \n",
    "        # Define initialization for lora layers (this ensures that the model behavior is identitial to the original model)\n",
    "        # torch对lora 参数进行初始化\n",
    "        for n,p in self.named_parameters():  # named_parameters方法遍历模型self中所有参数，n是参数名，p是参数值。\n",
    "            if 'lora' in n:\n",
    "                if n[-1] == 'A':\n",
    "                    nn.init.kaiming_uniform_(p, a=math.sqrt(5))  # 从均匀分布中初始化tensor p，a值是激活函数的负斜率\n",
    "                elif n[-1] == 'B':\n",
    "                    nn.init.zeros_(p)\n",
    "        \n",
    "        # freeze non lora weights\n",
    "        for n,p in self.named_parameters():\n",
    "            if 'lora' not in n:\n",
    "                p.requires_grad = False\n",
    "        \n",
    "        # Define metrics\n",
    "        self.val_accuracy = Accuracy(task='multiclass', num_classes=self.num_classes)\n",
    "        self.test_accuracy = Accuracy(task='multiclass', num_classes=self.num_classes)\n",
    "    \n",
    "    def lora_linear(self, x, layer, lora_A, lora_B):\n",
    "        # does the work of combining outputs from normal layer and lora layer for x\n",
    "        # notice that h is the sum of two separate operations on x\n",
    "        h = layer(x)\n",
    "        h += x@(lora_A @ lora_B)* self.lora_alpha  # h = (w +α*Δw)*x\n",
    "        return h\n",
    "    \n",
    "    def forward(self, x):\n",
    "        # preprocessing\n",
    "        x = torch.flatten(x, 1)\n",
    "        \n",
    "        # layer 1 (input_size, hidden_size)\n",
    "        x = self.lora_linear(x, self.l1, self.l1_lora_A, self.l1_lora_B)\n",
    "        x = self.relu(x)\n",
    "        x = self.dropout(x)\n",
    "        \n",
    "        # layer 2 (hidden_size, hidden_size)\n",
    "        x = self.lora_linear(x, self.l2, self.l2_lora_A, self.l2_lora_B)\n",
    "        x = self.relu(x)\n",
    "        x = self.dropout(x)\n",
    "        \n",
    "        # layer 3 (hidden_size, self.num_classes)\n",
    "        x = self.lora_linear(x, self.l3, self.l3_lora_A, self.l3_lora_B)\n",
    "        \n",
    "        # notice that we return the log probabilities  here as that is what nll loss expects in the training step\n",
    "        return F.log_softmax(x, dim=1)\n",
    "    \n",
    "    def common_step(self, batch, batch_idx):\n",
    "        # define operations of {train, val, test} will take in one place\n",
    "        x, y = batch\n",
    "        # rescale y to be 0 indexed if necessary (like when we start using mnist 5-9)\n",
    "        if self.min_class != 0:\n",
    "            y = y - self.min_class\n",
    "        logits = self(x)\n",
    "        loss = F.nll_loss(logits, y)\n",
    "        return x, y, logits, loss\n",
    "    \n",
    "    def training_step(self, batch, batch_idx):\n",
    "        _, _, _, loss = self.common_step(batch, batch_idx)\n",
    "        self.log(\"train_loss\", loss, batch_size=self.batch_size)\n",
    "        return loss\n",
    "    \n",
    "    def validation_step(self, batch, batch_idx):\n",
    "        x, y, logits, loss = self.common_step(batch, batch_idx)\n",
    "        preds = torch.argmax(logits, dim=1)\n",
    "        self.val_accuracy.update(preds, y)\n",
    "        self.log('val_loss', loss, prog_bar=False)\n",
    "        self.log('val_acc', self.val_accuracy, prog_bar=True)\n",
    "    \n",
    "    def test_step(self, batch, batch_idx):\n",
    "        x, y, logits, loss = self.common_step(batch, batch_idx)\n",
    "        preds = torch.argmax(logits, dim=1)  # 沿dim=1返回tensor最大值的索引index\n",
    "        self.test_accuracy.update(preds, y)\n",
    "        self.log('test_loss', loss, prog_bar=True)\n",
    "        self.log('test_acc', self.test_accuracy, prog_bar=True)\n",
    "    \n",
    "    def configure_optimizers(self):\n",
    "        # we'll use adamw to match the paper\n",
    "        optimizer = torch.optim.AdamW(self.parameters(), lr=self.lr)\n",
    "        # 学习率调度器，ReduceLRonPlateau会在val指标停止改善时降低lr；min表示val loss最小化；patient=10表示10个周期内没有改善就降低lr\n",
    "        scheduler = torch.optim.lr_scheduler.ReduceLROnPlateau(optimizer, 'min', patience=10)\n",
    "        return {\n",
    "            'optimizer': optimizer,\n",
    "            'lr_scheduler': {\n",
    "                'scheduler': scheduler,\n",
    "                'monitor': 'val_loss',\n",
    "                'frequency': 1,\n",
    "            }\n",
    "        }  # lightning在训练过程中自动管理优化和调整学习率\n",
    "    \n",
    "    # the rest of the class if helper functions for configuration data/dataloader building\n",
    "    @staticmethod\n",
    "    def get_indices(dataset, class_space):\n",
    "        if isinstance(dataset, torch.utils.data.dataset.Subset):\n",
    "            targets = torch.tensor([dataset.dataset.targets[i] for i in dataset.indices])\n",
    "        else:\n",
    "            targets = dataset.targets\n",
    "        indices = []\n",
    "        for i in range(len(targets)):\n",
    "            if targets[i] in class_space:\n",
    "                indices.append(i)\n",
    "        return indices\n",
    "    \n",
    "    def prepare_data(self):\n",
    "        # download_data\n",
    "        MNIST(self.data_dir, train=True, download=True)\n",
    "        MNIST(self.data_dir, train=False, download=True)\n",
    "    \n",
    "    def setup(self, stage=None):\n",
    "        # Assign train/bal datasets for use in dataloaders\n",
    "        if stage == 'fit' or stage is None:\n",
    "            mnist_full = MNIST(self.data_dir, train=True, transform=self.transform)\n",
    "            self.mnist_train, self.mnist_val = random_split(mnist_full, [55000, 5000])\n",
    "        \n",
    "        # Assign test dataset for use in dataloader\n",
    "        if stage == 'test' or stage is None:\n",
    "            self.mnist_test = MNIST(self.data_dir, train=False, transform=self.transform)\n",
    "        \n",
    "    def create_dataloader(self, dataset):\n",
    "        idx = self.get_indices(dataset, self.class_space)\n",
    "        # Note - this necessarily shuffles the data due to the sampler we are using\n",
    "        loader = DataLoader(dataset, batch_size=self.batch_size, sampler=SubsetRandomSampler(idx), num_workers=16)\n",
    "        return loader\n",
    "    \n",
    "    def train_dataloader(self):\n",
    "        return self.create_dataloader(self.mnist_train)\n",
    "    \n",
    "    def val_dataloader(self):\n",
    "        return self.create_dataloader(self.mnist_val)\n",
    "    \n",
    "    def test_dataloader(self):\n",
    "        return self.create_dataloader(self.mnist_test)"
   ]
  },
  {
   "cell_type": "markdown",
   "id": "774e9902",
   "metadata": {
    "ExecuteTime": {
     "end_time": "2024-07-03T10:28:46.018473Z",
     "start_time": "2024-07-03T10:28:46.015288Z"
    }
   },
   "source": [
    "### lora experiment"
   ]
  },
  {
   "cell_type": "code",
   "execution_count": 30,
   "id": "88a5d62b",
   "metadata": {
    "ExecuteTime": {
     "end_time": "2024-07-03T09:11:00.203764Z",
     "start_time": "2024-07-03T09:11:00.198220Z"
    }
   },
   "outputs": [],
   "source": [
    "# try lora finetuning with different lora ranks\n",
    "def lora_experiment(rank):\n",
    "    state_dict = torch.load('mlp_model.pt')\n",
    "    model = LitMNISTLoRA(lora_rank=rank)\n",
    "    model.load_state_dict(state_dict, strict=False)\n",
    "    model.class_space = [5,6,7,8,9]\n",
    "    model.min_class = min(model.class_space)\n",
    "    \n",
    "    from lightning.pytorch.callbacks import LearningRateMonitor  # 用于监控和记录学习率变化\n",
    "    lr_monitor = LearningRateMonitor(logging_interval='step')  # 记录间隔\n",
    "    \n",
    "    trainer = L.Trainer(\n",
    "        accelerator='auto',\n",
    "        devices=1,\n",
    "        max_epochs=10,\n",
    "        callbacks=[lr_monitor, EarlyStopping(monitor='val_loss', mode='min', patience=10)], # 回调函数val metrics，指标值越小min越好\n",
    "        enable_progress_bar=False,\n",
    "    )\n",
    "    trainer.fit(model)\n",
    "    return trainer.test()[0]['test_acc']  # 返回测试结果列表，第一个字典test results"
   ]
  },
  {
   "cell_type": "code",
   "execution_count": 44,
   "id": "cdcb2636",
   "metadata": {
    "ExecuteTime": {
     "end_time": "2024-07-04T08:08:05.952546Z",
     "start_time": "2024-07-04T08:07:50.467770Z"
    }
   },
   "outputs": [
    {
     "name": "stderr",
     "output_type": "stream",
     "text": [
      "D:\\Anaconda3\\Lib\\site-packages\\lightning\\pytorch\\trainer\\connectors\\checkpoint_connector.py:145: `.test(ckpt_path=None)` was called without a model. The best model of the previous `fit` call will be used. You can pass `.test(ckpt_path='best')` to use the best model or `.test(ckpt_path='last')` to use the last model. If you pass a value, this warning will be silenced.\n",
      "Restoring states from the checkpoint path at logs/lightning_logs\\version_2\\checkpoints\\epoch=9-step=280.ckpt\n",
      "Loaded model weights from the checkpoint at logs/lightning_logs\\version_2\\checkpoints\\epoch=9-step=280.ckpt\n",
      "D:\\Anaconda3\\Lib\\site-packages\\torch\\utils\\data\\dataloader.py:558: UserWarning: This DataLoader will create 16 worker processes in total. Our suggested max number of worker in current system is 8 (`cpuset` is not taken into account), which is smaller than what this DataLoader is going to create. Please be aware that excessive worker creation might get DataLoader running slow or even freeze, lower the worker number to avoid potential slowness/freeze if necessary.\n",
      "  warnings.warn(_create_warning_msg(\n",
      "D:\\Anaconda3\\Lib\\site-packages\\lightning\\pytorch\\trainer\\connectors\\data_connector.py:419: Consider setting `persistent_workers=True` in 'test_dataloader' to speed up the dataloader worker initialization.\n"
     ]
    },
    {
     "data": {
      "application/vnd.jupyter.widget-view+json": {
       "model_id": "c1ee66410fd74f2b9e20d4a1bd62d4ed",
       "version_major": 2,
       "version_minor": 0
      },
      "text/plain": [
       "Testing: |                                                                                       | 0/? [00:00<…"
      ]
     },
     "metadata": {},
     "output_type": "display_data"
    },
    {
     "data": {
      "text/html": [
       "<pre style=\"white-space:pre;overflow-x:auto;line-height:normal;font-family:Menlo,'DejaVu Sans Mono',consolas,'Courier New',monospace\">┏━━━━━━━━━━━━━━━━━━━━━━━━━━━┳━━━━━━━━━━━━━━━━━━━━━━━━━━━┓\n",
       "┃<span style=\"font-weight: bold\">        Test metric        </span>┃<span style=\"font-weight: bold\">       DataLoader 0        </span>┃\n",
       "┡━━━━━━━━━━━━━━━━━━━━━━━━━━━╇━━━━━━━━━━━━━━━━━━━━━━━━━━━┩\n",
       "│<span style=\"color: #008080; text-decoration-color: #008080\">         test_acc          </span>│<span style=\"color: #800080; text-decoration-color: #800080\">    0.9838489890098572     </span>│\n",
       "│<span style=\"color: #008080; text-decoration-color: #008080\">         test_loss         </span>│<span style=\"color: #800080; text-decoration-color: #800080\">   0.052110206335783005    </span>│\n",
       "└───────────────────────────┴───────────────────────────┘\n",
       "</pre>\n"
      ],
      "text/plain": [
       "┏━━━━━━━━━━━━━━━━━━━━━━━━━━━┳━━━━━━━━━━━━━━━━━━━━━━━━━━━┓\n",
       "┃\u001b[1m \u001b[0m\u001b[1m       Test metric       \u001b[0m\u001b[1m \u001b[0m┃\u001b[1m \u001b[0m\u001b[1m      DataLoader 0       \u001b[0m\u001b[1m \u001b[0m┃\n",
       "┡━━━━━━━━━━━━━━━━━━━━━━━━━━━╇━━━━━━━━━━━━━━━━━━━━━━━━━━━┩\n",
       "│\u001b[36m \u001b[0m\u001b[36m        test_acc         \u001b[0m\u001b[36m \u001b[0m│\u001b[35m \u001b[0m\u001b[35m   0.9838489890098572    \u001b[0m\u001b[35m \u001b[0m│\n",
       "│\u001b[36m \u001b[0m\u001b[36m        test_loss        \u001b[0m\u001b[36m \u001b[0m│\u001b[35m \u001b[0m\u001b[35m  0.052110206335783005   \u001b[0m\u001b[35m \u001b[0m│\n",
       "└───────────────────────────┴───────────────────────────┘\n"
      ]
     },
     "metadata": {},
     "output_type": "display_data"
    },
    {
     "data": {
      "text/plain": [
       "[{'test_loss': 0.052110206335783005, 'test_acc': 0.9838489890098572}]"
      ]
     },
     "execution_count": 44,
     "metadata": {},
     "output_type": "execute_result"
    }
   ],
   "source": [
    "trainer.test()"
   ]
  },
  {
   "cell_type": "code",
   "execution_count": 31,
   "id": "8d7ce56b",
   "metadata": {
    "ExecuteTime": {
     "end_time": "2024-07-03T10:28:46.013295Z",
     "start_time": "2024-07-03T09:11:00.722743Z"
    }
   },
   "outputs": [
    {
     "name": "stderr",
     "output_type": "stream",
     "text": [
      "GPU available: False, used: False\n",
      "TPU available: False, using: 0 TPU cores\n",
      "HPU available: False, using: 0 HPUs\n",
      "\n",
      "  | Name          | Type               | Params | Mode \n",
      "-------------------------------------------------------------\n",
      "0 | l1            | Linear             | 50.2 K | train\n",
      "1 | l2            | Linear             | 4.2 K  | train\n",
      "2 | l3            | Linear             | 325    | train\n",
      "3 | dropout       | Dropout            | 0      | train\n",
      "4 | relu          | ReLU               | 0      | train\n",
      "5 | val_accuracy  | MulticlassAccuracy | 0      | train\n",
      "6 | test_accuracy | MulticlassAccuracy | 0      | train\n",
      "  | other params  | n/a                | 1.0 K  | n/a  \n",
      "-------------------------------------------------------------\n",
      "1.0 K     Trainable params\n",
      "54.7 K    Non-trainable params\n",
      "55.8 K    Total params\n",
      "0.223     Total estimated model params size (MB)\n",
      "D:\\Anaconda3\\Lib\\site-packages\\lightning\\pytorch\\trainer\\connectors\\data_connector.py:419: Consider setting `persistent_workers=True` in 'train_dataloader' to speed up the dataloader worker initialization.\n",
      "`Trainer.fit` stopped: `max_epochs=10` reached.\n",
      "D:\\Anaconda3\\Lib\\site-packages\\lightning\\pytorch\\trainer\\connectors\\checkpoint_connector.py:145: `.test(ckpt_path=None)` was called without a model. The best model of the previous `fit` call will be used. You can pass `.test(ckpt_path='best')` to use the best model or `.test(ckpt_path='last')` to use the last model. If you pass a value, this warning will be silenced.\n",
      "Restoring states from the checkpoint path at C:\\Users\\yysgz\\OneDrive - Macquarie University\\Desktop\\LLM_Prompts\\soft_prompt_tuning\\lightning_logs\\version_2\\checkpoints\\epoch=9-step=4220.ckpt\n",
      "Loaded model weights from the checkpoint at C:\\Users\\yysgz\\OneDrive - Macquarie University\\Desktop\\LLM_Prompts\\soft_prompt_tuning\\lightning_logs\\version_2\\checkpoints\\epoch=9-step=4220.ckpt\n",
      "D:\\Anaconda3\\Lib\\site-packages\\lightning\\pytorch\\trainer\\connectors\\data_connector.py:419: Consider setting `persistent_workers=True` in 'test_dataloader' to speed up the dataloader worker initialization.\n"
     ]
    },
    {
     "data": {
      "text/html": [
       "<pre style=\"white-space:pre;overflow-x:auto;line-height:normal;font-family:Menlo,'DejaVu Sans Mono',consolas,'Courier New',monospace\">┏━━━━━━━━━━━━━━━━━━━━━━━━━━━┳━━━━━━━━━━━━━━━━━━━━━━━━━━━┓\n",
       "┃<span style=\"font-weight: bold\">        Test metric        </span>┃<span style=\"font-weight: bold\">       DataLoader 0        </span>┃\n",
       "┡━━━━━━━━━━━━━━━━━━━━━━━━━━━╇━━━━━━━━━━━━━━━━━━━━━━━━━━━┩\n",
       "│<span style=\"color: #008080; text-decoration-color: #008080\">         test_acc          </span>│<span style=\"color: #800080; text-decoration-color: #800080\">    0.7858465313911438     </span>│\n",
       "│<span style=\"color: #008080; text-decoration-color: #008080\">         test_loss         </span>│<span style=\"color: #800080; text-decoration-color: #800080\">    0.5735034346580505     </span>│\n",
       "└───────────────────────────┴───────────────────────────┘\n",
       "</pre>\n"
      ],
      "text/plain": [
       "┏━━━━━━━━━━━━━━━━━━━━━━━━━━━┳━━━━━━━━━━━━━━━━━━━━━━━━━━━┓\n",
       "┃\u001b[1m \u001b[0m\u001b[1m       Test metric       \u001b[0m\u001b[1m \u001b[0m┃\u001b[1m \u001b[0m\u001b[1m      DataLoader 0       \u001b[0m\u001b[1m \u001b[0m┃\n",
       "┡━━━━━━━━━━━━━━━━━━━━━━━━━━━╇━━━━━━━━━━━━━━━━━━━━━━━━━━━┩\n",
       "│\u001b[36m \u001b[0m\u001b[36m        test_acc         \u001b[0m\u001b[36m \u001b[0m│\u001b[35m \u001b[0m\u001b[35m   0.7858465313911438    \u001b[0m\u001b[35m \u001b[0m│\n",
       "│\u001b[36m \u001b[0m\u001b[36m        test_loss        \u001b[0m\u001b[36m \u001b[0m│\u001b[35m \u001b[0m\u001b[35m   0.5735034346580505    \u001b[0m\u001b[35m \u001b[0m│\n",
       "└───────────────────────────┴───────────────────────────┘\n"
      ]
     },
     "metadata": {},
     "output_type": "display_data"
    },
    {
     "name": "stderr",
     "output_type": "stream",
     "text": [
      "GPU available: False, used: False\n",
      "TPU available: False, using: 0 TPU cores\n",
      "HPU available: False, using: 0 HPUs\n",
      "\n",
      "  | Name          | Type               | Params | Mode \n",
      "-------------------------------------------------------------\n",
      "0 | l1            | Linear             | 50.2 K | train\n",
      "1 | l2            | Linear             | 4.2 K  | train\n",
      "2 | l3            | Linear             | 325    | train\n",
      "3 | dropout       | Dropout            | 0      | train\n",
      "4 | relu          | ReLU               | 0      | train\n",
      "5 | val_accuracy  | MulticlassAccuracy | 0      | train\n",
      "6 | test_accuracy | MulticlassAccuracy | 0      | train\n",
      "  | other params  | n/a                | 2.1 K  | n/a  \n",
      "-------------------------------------------------------------\n",
      "2.1 K     Trainable params\n",
      "54.7 K    Non-trainable params\n",
      "56.8 K    Total params\n",
      "0.227     Total estimated model params size (MB)\n"
     ]
    },
    {
     "name": "stdout",
     "output_type": "stream",
     "text": [
      "0.7858465313911438\n"
     ]
    },
    {
     "name": "stderr",
     "output_type": "stream",
     "text": [
      "`Trainer.fit` stopped: `max_epochs=10` reached.\n",
      "Restoring states from the checkpoint path at C:\\Users\\yysgz\\OneDrive - Macquarie University\\Desktop\\LLM_Prompts\\soft_prompt_tuning\\lightning_logs\\version_3\\checkpoints\\epoch=9-step=4220.ckpt\n",
      "Loaded model weights from the checkpoint at C:\\Users\\yysgz\\OneDrive - Macquarie University\\Desktop\\LLM_Prompts\\soft_prompt_tuning\\lightning_logs\\version_3\\checkpoints\\epoch=9-step=4220.ckpt\n"
     ]
    },
    {
     "data": {
      "text/html": [
       "<pre style=\"white-space:pre;overflow-x:auto;line-height:normal;font-family:Menlo,'DejaVu Sans Mono',consolas,'Courier New',monospace\">┏━━━━━━━━━━━━━━━━━━━━━━━━━━━┳━━━━━━━━━━━━━━━━━━━━━━━━━━━┓\n",
       "┃<span style=\"font-weight: bold\">        Test metric        </span>┃<span style=\"font-weight: bold\">       DataLoader 0        </span>┃\n",
       "┡━━━━━━━━━━━━━━━━━━━━━━━━━━━╇━━━━━━━━━━━━━━━━━━━━━━━━━━━┩\n",
       "│<span style=\"color: #008080; text-decoration-color: #008080\">         test_acc          </span>│<span style=\"color: #800080; text-decoration-color: #800080\">    0.8850030899047852     </span>│\n",
       "│<span style=\"color: #008080; text-decoration-color: #008080\">         test_loss         </span>│<span style=\"color: #800080; text-decoration-color: #800080\">    0.3334353268146515     </span>│\n",
       "└───────────────────────────┴───────────────────────────┘\n",
       "</pre>\n"
      ],
      "text/plain": [
       "┏━━━━━━━━━━━━━━━━━━━━━━━━━━━┳━━━━━━━━━━━━━━━━━━━━━━━━━━━┓\n",
       "┃\u001b[1m \u001b[0m\u001b[1m       Test metric       \u001b[0m\u001b[1m \u001b[0m┃\u001b[1m \u001b[0m\u001b[1m      DataLoader 0       \u001b[0m\u001b[1m \u001b[0m┃\n",
       "┡━━━━━━━━━━━━━━━━━━━━━━━━━━━╇━━━━━━━━━━━━━━━━━━━━━━━━━━━┩\n",
       "│\u001b[36m \u001b[0m\u001b[36m        test_acc         \u001b[0m\u001b[36m \u001b[0m│\u001b[35m \u001b[0m\u001b[35m   0.8850030899047852    \u001b[0m\u001b[35m \u001b[0m│\n",
       "│\u001b[36m \u001b[0m\u001b[36m        test_loss        \u001b[0m\u001b[36m \u001b[0m│\u001b[35m \u001b[0m\u001b[35m   0.3334353268146515    \u001b[0m\u001b[35m \u001b[0m│\n",
       "└───────────────────────────┴───────────────────────────┘\n"
      ]
     },
     "metadata": {},
     "output_type": "display_data"
    },
    {
     "name": "stderr",
     "output_type": "stream",
     "text": [
      "GPU available: False, used: False\n",
      "TPU available: False, using: 0 TPU cores\n",
      "HPU available: False, using: 0 HPUs\n",
      "\n",
      "  | Name          | Type               | Params | Mode \n",
      "-------------------------------------------------------------\n",
      "0 | l1            | Linear             | 50.2 K | train\n",
      "1 | l2            | Linear             | 4.2 K  | train\n",
      "2 | l3            | Linear             | 325    | train\n",
      "3 | dropout       | Dropout            | 0      | train\n",
      "4 | relu          | ReLU               | 0      | train\n",
      "5 | val_accuracy  | MulticlassAccuracy | 0      | train\n",
      "6 | test_accuracy | MulticlassAccuracy | 0      | train\n",
      "  | other params  | n/a                | 4.2 K  | n/a  \n",
      "-------------------------------------------------------------\n",
      "4.2 K     Trainable params\n",
      "54.7 K    Non-trainable params\n",
      "58.9 K    Total params\n",
      "0.236     Total estimated model params size (MB)\n"
     ]
    },
    {
     "name": "stdout",
     "output_type": "stream",
     "text": [
      "0.8850030899047852\n"
     ]
    },
    {
     "name": "stderr",
     "output_type": "stream",
     "text": [
      "`Trainer.fit` stopped: `max_epochs=10` reached.\n",
      "Restoring states from the checkpoint path at C:\\Users\\yysgz\\OneDrive - Macquarie University\\Desktop\\LLM_Prompts\\soft_prompt_tuning\\lightning_logs\\version_4\\checkpoints\\epoch=9-step=4210.ckpt\n",
      "Loaded model weights from the checkpoint at C:\\Users\\yysgz\\OneDrive - Macquarie University\\Desktop\\LLM_Prompts\\soft_prompt_tuning\\lightning_logs\\version_4\\checkpoints\\epoch=9-step=4210.ckpt\n"
     ]
    },
    {
     "data": {
      "text/html": [
       "<pre style=\"white-space:pre;overflow-x:auto;line-height:normal;font-family:Menlo,'DejaVu Sans Mono',consolas,'Courier New',monospace\">┏━━━━━━━━━━━━━━━━━━━━━━━━━━━┳━━━━━━━━━━━━━━━━━━━━━━━━━━━┓\n",
       "┃<span style=\"font-weight: bold\">        Test metric        </span>┃<span style=\"font-weight: bold\">       DataLoader 0        </span>┃\n",
       "┡━━━━━━━━━━━━━━━━━━━━━━━━━━━╇━━━━━━━━━━━━━━━━━━━━━━━━━━━┩\n",
       "│<span style=\"color: #008080; text-decoration-color: #008080\">         test_acc          </span>│<span style=\"color: #800080; text-decoration-color: #800080\">    0.9325241446495056     </span>│\n",
       "│<span style=\"color: #008080; text-decoration-color: #008080\">         test_loss         </span>│<span style=\"color: #800080; text-decoration-color: #800080\">    0.2095007598400116     </span>│\n",
       "└───────────────────────────┴───────────────────────────┘\n",
       "</pre>\n"
      ],
      "text/plain": [
       "┏━━━━━━━━━━━━━━━━━━━━━━━━━━━┳━━━━━━━━━━━━━━━━━━━━━━━━━━━┓\n",
       "┃\u001b[1m \u001b[0m\u001b[1m       Test metric       \u001b[0m\u001b[1m \u001b[0m┃\u001b[1m \u001b[0m\u001b[1m      DataLoader 0       \u001b[0m\u001b[1m \u001b[0m┃\n",
       "┡━━━━━━━━━━━━━━━━━━━━━━━━━━━╇━━━━━━━━━━━━━━━━━━━━━━━━━━━┩\n",
       "│\u001b[36m \u001b[0m\u001b[36m        test_acc         \u001b[0m\u001b[36m \u001b[0m│\u001b[35m \u001b[0m\u001b[35m   0.9325241446495056    \u001b[0m\u001b[35m \u001b[0m│\n",
       "│\u001b[36m \u001b[0m\u001b[36m        test_loss        \u001b[0m\u001b[36m \u001b[0m│\u001b[35m \u001b[0m\u001b[35m   0.2095007598400116    \u001b[0m\u001b[35m \u001b[0m│\n",
       "└───────────────────────────┴───────────────────────────┘\n"
      ]
     },
     "metadata": {},
     "output_type": "display_data"
    },
    {
     "name": "stderr",
     "output_type": "stream",
     "text": [
      "GPU available: False, used: False\n",
      "TPU available: False, using: 0 TPU cores\n",
      "HPU available: False, using: 0 HPUs\n",
      "\n",
      "  | Name          | Type               | Params | Mode \n",
      "-------------------------------------------------------------\n",
      "0 | l1            | Linear             | 50.2 K | train\n",
      "1 | l2            | Linear             | 4.2 K  | train\n",
      "2 | l3            | Linear             | 325    | train\n",
      "3 | dropout       | Dropout            | 0      | train\n",
      "4 | relu          | ReLU               | 0      | train\n",
      "5 | val_accuracy  | MulticlassAccuracy | 0      | train\n",
      "6 | test_accuracy | MulticlassAccuracy | 0      | train\n",
      "  | other params  | n/a                | 8.4 K  | n/a  \n",
      "-------------------------------------------------------------\n",
      "8.4 K     Trainable params\n",
      "54.7 K    Non-trainable params\n",
      "63.1 K    Total params\n",
      "0.252     Total estimated model params size (MB)\n"
     ]
    },
    {
     "name": "stdout",
     "output_type": "stream",
     "text": [
      "0.9325241446495056\n"
     ]
    },
    {
     "name": "stderr",
     "output_type": "stream",
     "text": [
      "`Trainer.fit` stopped: `max_epochs=10` reached.\n",
      "Restoring states from the checkpoint path at C:\\Users\\yysgz\\OneDrive - Macquarie University\\Desktop\\LLM_Prompts\\soft_prompt_tuning\\lightning_logs\\version_5\\checkpoints\\epoch=9-step=4220.ckpt\n",
      "Loaded model weights from the checkpoint at C:\\Users\\yysgz\\OneDrive - Macquarie University\\Desktop\\LLM_Prompts\\soft_prompt_tuning\\lightning_logs\\version_5\\checkpoints\\epoch=9-step=4220.ckpt\n"
     ]
    },
    {
     "data": {
      "text/html": [
       "<pre style=\"white-space:pre;overflow-x:auto;line-height:normal;font-family:Menlo,'DejaVu Sans Mono',consolas,'Courier New',monospace\">┏━━━━━━━━━━━━━━━━━━━━━━━━━━━┳━━━━━━━━━━━━━━━━━━━━━━━━━━━┓\n",
       "┃<span style=\"font-weight: bold\">        Test metric        </span>┃<span style=\"font-weight: bold\">       DataLoader 0        </span>┃\n",
       "┡━━━━━━━━━━━━━━━━━━━━━━━━━━━╇━━━━━━━━━━━━━━━━━━━━━━━━━━━┩\n",
       "│<span style=\"color: #008080; text-decoration-color: #008080\">         test_acc          </span>│<span style=\"color: #800080; text-decoration-color: #800080\">    0.9491873979568481     </span>│\n",
       "│<span style=\"color: #008080; text-decoration-color: #008080\">         test_loss         </span>│<span style=\"color: #800080; text-decoration-color: #800080\">    0.15515846014022827    </span>│\n",
       "└───────────────────────────┴───────────────────────────┘\n",
       "</pre>\n"
      ],
      "text/plain": [
       "┏━━━━━━━━━━━━━━━━━━━━━━━━━━━┳━━━━━━━━━━━━━━━━━━━━━━━━━━━┓\n",
       "┃\u001b[1m \u001b[0m\u001b[1m       Test metric       \u001b[0m\u001b[1m \u001b[0m┃\u001b[1m \u001b[0m\u001b[1m      DataLoader 0       \u001b[0m\u001b[1m \u001b[0m┃\n",
       "┡━━━━━━━━━━━━━━━━━━━━━━━━━━━╇━━━━━━━━━━━━━━━━━━━━━━━━━━━┩\n",
       "│\u001b[36m \u001b[0m\u001b[36m        test_acc         \u001b[0m\u001b[36m \u001b[0m│\u001b[35m \u001b[0m\u001b[35m   0.9491873979568481    \u001b[0m\u001b[35m \u001b[0m│\n",
       "│\u001b[36m \u001b[0m\u001b[36m        test_loss        \u001b[0m\u001b[36m \u001b[0m│\u001b[35m \u001b[0m\u001b[35m   0.15515846014022827   \u001b[0m\u001b[35m \u001b[0m│\n",
       "└───────────────────────────┴───────────────────────────┘\n"
      ]
     },
     "metadata": {},
     "output_type": "display_data"
    },
    {
     "name": "stderr",
     "output_type": "stream",
     "text": [
      "GPU available: False, used: False\n",
      "TPU available: False, using: 0 TPU cores\n",
      "HPU available: False, using: 0 HPUs\n",
      "\n",
      "  | Name          | Type               | Params | Mode \n",
      "-------------------------------------------------------------\n",
      "0 | l1            | Linear             | 50.2 K | train\n",
      "1 | l2            | Linear             | 4.2 K  | train\n",
      "2 | l3            | Linear             | 325    | train\n",
      "3 | dropout       | Dropout            | 0      | train\n",
      "4 | relu          | ReLU               | 0      | train\n",
      "5 | val_accuracy  | MulticlassAccuracy | 0      | train\n",
      "6 | test_accuracy | MulticlassAccuracy | 0      | train\n",
      "  | other params  | n/a                | 16.7 K | n/a  \n",
      "-------------------------------------------------------------\n",
      "16.7 K    Trainable params\n",
      "54.7 K    Non-trainable params\n",
      "71.4 K    Total params\n",
      "0.286     Total estimated model params size (MB)\n"
     ]
    },
    {
     "name": "stdout",
     "output_type": "stream",
     "text": [
      "0.9491873979568481\n"
     ]
    },
    {
     "name": "stderr",
     "output_type": "stream",
     "text": [
      "`Trainer.fit` stopped: `max_epochs=10` reached.\n",
      "Restoring states from the checkpoint path at C:\\Users\\yysgz\\OneDrive - Macquarie University\\Desktop\\LLM_Prompts\\soft_prompt_tuning\\lightning_logs\\version_6\\checkpoints\\epoch=9-step=4210.ckpt\n",
      "Loaded model weights from the checkpoint at C:\\Users\\yysgz\\OneDrive - Macquarie University\\Desktop\\LLM_Prompts\\soft_prompt_tuning\\lightning_logs\\version_6\\checkpoints\\epoch=9-step=4210.ckpt\n"
     ]
    },
    {
     "data": {
      "text/html": [
       "<pre style=\"white-space:pre;overflow-x:auto;line-height:normal;font-family:Menlo,'DejaVu Sans Mono',consolas,'Courier New',monospace\">┏━━━━━━━━━━━━━━━━━━━━━━━━━━━┳━━━━━━━━━━━━━━━━━━━━━━━━━━━┓\n",
       "┃<span style=\"font-weight: bold\">        Test metric        </span>┃<span style=\"font-weight: bold\">       DataLoader 0        </span>┃\n",
       "┡━━━━━━━━━━━━━━━━━━━━━━━━━━━╇━━━━━━━━━━━━━━━━━━━━━━━━━━━┩\n",
       "│<span style=\"color: #008080; text-decoration-color: #008080\">         test_acc          </span>│<span style=\"color: #800080; text-decoration-color: #800080\">    0.9539189338684082     </span>│\n",
       "│<span style=\"color: #008080; text-decoration-color: #008080\">         test_loss         </span>│<span style=\"color: #800080; text-decoration-color: #800080\">    0.14538365602493286    </span>│\n",
       "└───────────────────────────┴───────────────────────────┘\n",
       "</pre>\n"
      ],
      "text/plain": [
       "┏━━━━━━━━━━━━━━━━━━━━━━━━━━━┳━━━━━━━━━━━━━━━━━━━━━━━━━━━┓\n",
       "┃\u001b[1m \u001b[0m\u001b[1m       Test metric       \u001b[0m\u001b[1m \u001b[0m┃\u001b[1m \u001b[0m\u001b[1m      DataLoader 0       \u001b[0m\u001b[1m \u001b[0m┃\n",
       "┡━━━━━━━━━━━━━━━━━━━━━━━━━━━╇━━━━━━━━━━━━━━━━━━━━━━━━━━━┩\n",
       "│\u001b[36m \u001b[0m\u001b[36m        test_acc         \u001b[0m\u001b[36m \u001b[0m│\u001b[35m \u001b[0m\u001b[35m   0.9539189338684082    \u001b[0m\u001b[35m \u001b[0m│\n",
       "│\u001b[36m \u001b[0m\u001b[36m        test_loss        \u001b[0m\u001b[36m \u001b[0m│\u001b[35m \u001b[0m\u001b[35m   0.14538365602493286   \u001b[0m\u001b[35m \u001b[0m│\n",
       "└───────────────────────────┴───────────────────────────┘\n"
      ]
     },
     "metadata": {},
     "output_type": "display_data"
    },
    {
     "name": "stderr",
     "output_type": "stream",
     "text": [
      "GPU available: False, used: False\n",
      "TPU available: False, using: 0 TPU cores\n",
      "HPU available: False, using: 0 HPUs\n",
      "\n",
      "  | Name          | Type               | Params | Mode \n",
      "-------------------------------------------------------------\n",
      "0 | l1            | Linear             | 50.2 K | train\n",
      "1 | l2            | Linear             | 4.2 K  | train\n",
      "2 | l3            | Linear             | 325    | train\n",
      "3 | dropout       | Dropout            | 0      | train\n",
      "4 | relu          | ReLU               | 0      | train\n",
      "5 | val_accuracy  | MulticlassAccuracy | 0      | train\n",
      "6 | test_accuracy | MulticlassAccuracy | 0      | train\n",
      "  | other params  | n/a                | 33.4 K | n/a  \n",
      "-------------------------------------------------------------\n",
      "33.4 K    Trainable params\n",
      "54.7 K    Non-trainable params\n",
      "88.2 K    Total params\n",
      "0.353     Total estimated model params size (MB)\n"
     ]
    },
    {
     "name": "stdout",
     "output_type": "stream",
     "text": [
      "0.9539189338684082\n"
     ]
    },
    {
     "name": "stderr",
     "output_type": "stream",
     "text": [
      "`Trainer.fit` stopped: `max_epochs=10` reached.\n",
      "Restoring states from the checkpoint path at C:\\Users\\yysgz\\OneDrive - Macquarie University\\Desktop\\LLM_Prompts\\soft_prompt_tuning\\lightning_logs\\version_7\\checkpoints\\epoch=9-step=4210.ckpt\n",
      "Loaded model weights from the checkpoint at C:\\Users\\yysgz\\OneDrive - Macquarie University\\Desktop\\LLM_Prompts\\soft_prompt_tuning\\lightning_logs\\version_7\\checkpoints\\epoch=9-step=4210.ckpt\n"
     ]
    },
    {
     "data": {
      "text/html": [
       "<pre style=\"white-space:pre;overflow-x:auto;line-height:normal;font-family:Menlo,'DejaVu Sans Mono',consolas,'Courier New',monospace\">┏━━━━━━━━━━━━━━━━━━━━━━━━━━━┳━━━━━━━━━━━━━━━━━━━━━━━━━━━┓\n",
       "┃<span style=\"font-weight: bold\">        Test metric        </span>┃<span style=\"font-weight: bold\">       DataLoader 0        </span>┃\n",
       "┡━━━━━━━━━━━━━━━━━━━━━━━━━━━╇━━━━━━━━━━━━━━━━━━━━━━━━━━━┩\n",
       "│<span style=\"color: #008080; text-decoration-color: #008080\">         test_acc          </span>│<span style=\"color: #800080; text-decoration-color: #800080\">    0.9619419574737549     </span>│\n",
       "│<span style=\"color: #008080; text-decoration-color: #008080\">         test_loss         </span>│<span style=\"color: #800080; text-decoration-color: #800080\">    0.11542871594429016    </span>│\n",
       "└───────────────────────────┴───────────────────────────┘\n",
       "</pre>\n"
      ],
      "text/plain": [
       "┏━━━━━━━━━━━━━━━━━━━━━━━━━━━┳━━━━━━━━━━━━━━━━━━━━━━━━━━━┓\n",
       "┃\u001b[1m \u001b[0m\u001b[1m       Test metric       \u001b[0m\u001b[1m \u001b[0m┃\u001b[1m \u001b[0m\u001b[1m      DataLoader 0       \u001b[0m\u001b[1m \u001b[0m┃\n",
       "┡━━━━━━━━━━━━━━━━━━━━━━━━━━━╇━━━━━━━━━━━━━━━━━━━━━━━━━━━┩\n",
       "│\u001b[36m \u001b[0m\u001b[36m        test_acc         \u001b[0m\u001b[36m \u001b[0m│\u001b[35m \u001b[0m\u001b[35m   0.9619419574737549    \u001b[0m\u001b[35m \u001b[0m│\n",
       "│\u001b[36m \u001b[0m\u001b[36m        test_loss        \u001b[0m\u001b[36m \u001b[0m│\u001b[35m \u001b[0m\u001b[35m   0.11542871594429016   \u001b[0m\u001b[35m \u001b[0m│\n",
       "└───────────────────────────┴───────────────────────────┘\n"
      ]
     },
     "metadata": {},
     "output_type": "display_data"
    },
    {
     "name": "stderr",
     "output_type": "stream",
     "text": [
      "GPU available: False, used: False\n",
      "TPU available: False, using: 0 TPU cores\n",
      "HPU available: False, using: 0 HPUs\n",
      "\n",
      "  | Name          | Type               | Params | Mode \n",
      "-------------------------------------------------------------\n",
      "0 | l1            | Linear             | 50.2 K | train\n",
      "1 | l2            | Linear             | 4.2 K  | train\n",
      "2 | l3            | Linear             | 325    | train\n",
      "3 | dropout       | Dropout            | 0      | train\n",
      "4 | relu          | ReLU               | 0      | train\n",
      "5 | val_accuracy  | MulticlassAccuracy | 0      | train\n",
      "6 | test_accuracy | MulticlassAccuracy | 0      | train\n",
      "  | other params  | n/a                | 66.9 K | n/a  \n",
      "-------------------------------------------------------------\n",
      "66.9 K    Trainable params\n",
      "54.7 K    Non-trainable params\n",
      "121 K     Total params\n",
      "0.486     Total estimated model params size (MB)\n"
     ]
    },
    {
     "name": "stdout",
     "output_type": "stream",
     "text": [
      "0.9619419574737549\n"
     ]
    },
    {
     "name": "stderr",
     "output_type": "stream",
     "text": [
      "`Trainer.fit` stopped: `max_epochs=10` reached.\n",
      "Restoring states from the checkpoint path at C:\\Users\\yysgz\\OneDrive - Macquarie University\\Desktop\\LLM_Prompts\\soft_prompt_tuning\\lightning_logs\\version_8\\checkpoints\\epoch=9-step=4220.ckpt\n",
      "Loaded model weights from the checkpoint at C:\\Users\\yysgz\\OneDrive - Macquarie University\\Desktop\\LLM_Prompts\\soft_prompt_tuning\\lightning_logs\\version_8\\checkpoints\\epoch=9-step=4220.ckpt\n"
     ]
    },
    {
     "data": {
      "text/html": [
       "<pre style=\"white-space:pre;overflow-x:auto;line-height:normal;font-family:Menlo,'DejaVu Sans Mono',consolas,'Courier New',monospace\">┏━━━━━━━━━━━━━━━━━━━━━━━━━━━┳━━━━━━━━━━━━━━━━━━━━━━━━━━━┓\n",
       "┃<span style=\"font-weight: bold\">        Test metric        </span>┃<span style=\"font-weight: bold\">       DataLoader 0        </span>┃\n",
       "┡━━━━━━━━━━━━━━━━━━━━━━━━━━━╇━━━━━━━━━━━━━━━━━━━━━━━━━━━┩\n",
       "│<span style=\"color: #008080; text-decoration-color: #008080\">         test_acc          </span>│<span style=\"color: #800080; text-decoration-color: #800080\">    0.9724336266517639     </span>│\n",
       "│<span style=\"color: #008080; text-decoration-color: #008080\">         test_loss         </span>│<span style=\"color: #800080; text-decoration-color: #800080\">    0.08334653824567795    </span>│\n",
       "└───────────────────────────┴───────────────────────────┘\n",
       "</pre>\n"
      ],
      "text/plain": [
       "┏━━━━━━━━━━━━━━━━━━━━━━━━━━━┳━━━━━━━━━━━━━━━━━━━━━━━━━━━┓\n",
       "┃\u001b[1m \u001b[0m\u001b[1m       Test metric       \u001b[0m\u001b[1m \u001b[0m┃\u001b[1m \u001b[0m\u001b[1m      DataLoader 0       \u001b[0m\u001b[1m \u001b[0m┃\n",
       "┡━━━━━━━━━━━━━━━━━━━━━━━━━━━╇━━━━━━━━━━━━━━━━━━━━━━━━━━━┩\n",
       "│\u001b[36m \u001b[0m\u001b[36m        test_acc         \u001b[0m\u001b[36m \u001b[0m│\u001b[35m \u001b[0m\u001b[35m   0.9724336266517639    \u001b[0m\u001b[35m \u001b[0m│\n",
       "│\u001b[36m \u001b[0m\u001b[36m        test_loss        \u001b[0m\u001b[36m \u001b[0m│\u001b[35m \u001b[0m\u001b[35m   0.08334653824567795   \u001b[0m\u001b[35m \u001b[0m│\n",
       "└───────────────────────────┴───────────────────────────┘\n"
      ]
     },
     "metadata": {},
     "output_type": "display_data"
    },
    {
     "name": "stdout",
     "output_type": "stream",
     "text": [
      "0.9724336266517639\n",
      "{1: 0.7858465313911438, 2: 0.8850030899047852, 4: 0.9325241446495056, 8: 0.9491873979568481, 16: 0.9539189338684082, 32: 0.9619419574737549, 64: 0.9724336266517639}\n"
     ]
    }
   ],
   "source": [
    "results = {}\n",
    "for rank in [1,2,4,8,16,32,64]:\n",
    "    result = lora_experiment(rank)\n",
    "    results[rank] = result\n",
    "    print(result)\n",
    "print(results)"
   ]
  },
  {
   "cell_type": "code",
   "execution_count": 36,
   "id": "50313435",
   "metadata": {
    "ExecuteTime": {
     "end_time": "2024-07-04T00:52:24.502889Z",
     "start_time": "2024-07-04T00:52:24.497560Z"
    }
   },
   "outputs": [
    {
     "data": {
      "text/plain": [
       "{1: 0.7858465313911438,\n",
       " 2: 0.8850030899047852,\n",
       " 4: 0.9325241446495056,\n",
       " 8: 0.9491873979568481,\n",
       " 16: 0.9539189338684082,\n",
       " 32: 0.9619419574737549,\n",
       " 64: 0.9724336266517639}"
      ]
     },
     "execution_count": 36,
     "metadata": {},
     "output_type": "execute_result"
    }
   ],
   "source": [
    "results"
   ]
  },
  {
   "cell_type": "markdown",
   "id": "7462742e",
   "metadata": {
    "ExecuteTime": {
     "end_time": "2024-07-04T00:53:02.959582Z",
     "start_time": "2024-07-04T00:53:02.956358Z"
    }
   },
   "source": [
    "### lora pictures"
   ]
  },
  {
   "cell_type": "code",
   "execution_count": 47,
   "id": "e9f68255",
   "metadata": {
    "ExecuteTime": {
     "end_time": "2024-07-04T08:17:39.548445Z",
     "start_time": "2024-07-04T08:17:39.229701Z"
    }
   },
   "outputs": [
    {
     "data": {
      "image/png": "[encoded data removed]",
      "text/plain": [
       "<Figure size 640x480 with 1 Axes>"
      ]
     },
     "metadata": {},
     "output_type": "display_data"
    }
   ],
   "source": [
    "fig, ax = plt.subplots()  # 创建一个图形对象fig和一个坐标轴对象ax\n",
    "baseline_num_parameters = 54700\n",
    "baseline_accuracy = 0.9838489890098572\n",
    "ax.scatter(baseline_num_parameters, baseline_accuracy, c='orange')  # ax.scatter绘制一个散点，scatter是分散的意思\n",
    "\n",
    "lora_rank = [1,2,4,8,16,32,64]\n",
    "lora_num_parameters = [1000, 2100, 4200, 8400, 16700, 33400, 66900]\n",
    "lora_accuracy = [0.7858465313911438, 0.8850030899047852, 0.9325241446495056, 0.9491873979568481, 0.9539189338684082, \n",
    "                 0.9619419574737549, 0.9724336266517639]\n",
    "ax.plot(lora_num_parameters, lora_accuracy)  # ax.plot绘制折线图\n",
    "plt.scatter(lora_num_parameters, lora_accuracy)  # plt.scatter绘制散点图\n",
    "\n",
    "legend1 = ax.legend(['Baseline', 'LoRA'], loc='lower right', title='Finetuning Approach')  # 添加图例和图例标题\n",
    "\n",
    "ax.set_xlabel('Number of additional trainable parameters')  # 设置x轴标题\n",
    "ax.set_ylabel('Finetuning test accuracy')                   # 设置y轴标题\n",
    "ax.set_title('Number of additional trainable parameters vs Fintuning test accuracy')\n",
    "plt.savefig('results/LoRA02_MNIST/parameter_vs_accuracy.png')\n",
    "plt.show()\n"
   ]
  },
  {
   "cell_type": "code",
   "execution_count": 42,
   "id": "dd977008",
   "metadata": {
    "ExecuteTime": {
     "end_time": "2024-07-04T01:11:59.469070Z",
     "start_time": "2024-07-04T01:11:59.048800Z"
    }
   },
   "outputs": [
    {
     "data": {
      "image/png": "[encoded data removed]",
      "text/plain": [
       "<Figure size 640x480 with 1 Axes>"
      ]
     },
     "metadata": {},
     "output_type": "display_data"
    }
   ],
   "source": [
    "fig, ax = plt.subplots()\n",
    "\n",
    "ax.scatter(baseline_num_parameters/baseline_num_parameters, baseline_accuracy/baseline_accuracy, c='orange')\n",
    "lora_parameters_relative_to_baseline = [i/baseline_num_parameters for i in lora_num_parameters]\n",
    "lora_accuracy_relative_to_baseline = [i/baseline_accuracy for i in lora_accuracy]\n",
    "ax.scatter(lora_parameters_relative_to_baseline, lora_accuracy_relative_to_baseline)\n",
    "ax.plot(lora_parameters_relative_to_baseline, lora_accuracy_relative_to_baseline)\n",
    "\n",
    "legend1 = ax.legend(['Baseline', 'LoRA'], loc='lower right', title='Finetuning Approach')\n",
    "\n",
    "ax.set_xlabel('Percent additional training parameters relative to baseline')\n",
    "ax.set_ylabel('Percent test accuracy relative to baseline')\n",
    "ax.set_title('Percent addtional training parameters relative to baseline vs finetuning test accuracy')\n",
    "plt.savefig('results/LoRA02_MNIST/real_parameters_vs_rel_accuracy.png', bbox_inches='tight')\n",
    "plt.show()"
   ]
  }
 ],
 "metadata": {
  "kernelspec": {
   "display_name": "Python 3 (ipykernel)",
   "language": "python",
   "name": "python3"
  },
  "language_info": {
   "codemirror_mode": {
    "name": "ipython",
    "version": 3
   },
   "file_extension": ".py",
   "mimetype": "text/x-python",
   "name": "python",
   "nbconvert_exporter": "python",
   "pygments_lexer": "ipython3",
   "version": "3.11.7"
  },
  "toc": {
   "base_numbering": 1,
   "nav_menu": {},
   "number_sections": true,
   "sideBar": true,
   "skip_h1_title": false,
   "title_cell": "Table of Contents",
   "title_sidebar": "Contents",
   "toc_cell": false,
   "toc_position": {
    "height": "calc(100% - 180px)",
    "left": "10px",
    "top": "150px",
    "width": "384px"
   },
   "toc_section_display": true,
   "toc_window_display": true
  }
 },
 "nbformat": 4,
 "nbformat_minor": 5
}
